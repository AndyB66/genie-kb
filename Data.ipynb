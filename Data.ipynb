{
 "cells": [
  {
   "cell_type": "code",
   "execution_count": 1,
   "metadata": {
    "collapsed": true
   },
   "outputs": [],
   "source": [
    "from data.load_fb15k237 import *"
   ]
  },
  {
   "cell_type": "code",
   "execution_count": 2,
   "metadata": {
    "collapsed": false
   },
   "outputs": [],
   "source": [
    "data,v,cv = load_fb15k(\"/media/diwe01/Data2/corpora/KB_completion/FB15K_237\",)"
   ]
  },
  {
   "cell_type": "code",
   "execution_count": 3,
   "metadata": {
    "collapsed": true
   },
   "outputs": [
    {
     "data": {
      "text/plain": [
       "[(1700, [237, 238, 239, 237, 240, 241, 237, 242], 243, 1),\n",
       " (1700,\n",
       "  [244,\n",
       "   245,\n",
       "   246,\n",
       "   244,\n",
       "   247,\n",
       "   248,\n",
       "   244,\n",
       "   249,\n",
       "   250,\n",
       "   237,\n",
       "   247,\n",
       "   251,\n",
       "   237,\n",
       "   245,\n",
       "   252,\n",
       "   237,\n",
       "   253,\n",
       "   254,\n",
       "   237,\n",
       "   240],\n",
       "  243,\n",
       "  1)]"
      ]
     },
     "execution_count": 3,
     "metadata": {},
     "output_type": "execute_result"
    }
   ],
   "source": [
    "data[\"text\"][:2]"
   ]
  },
  {
   "cell_type": "code",
   "execution_count": 4,
   "metadata": {
    "collapsed": false,
    "scrolled": true
   },
   "outputs": [
    {
     "data": {
      "text/plain": [
       "{0: 1236,\n",
       " 2: 86340,\n",
       " 5: 552247,\n",
       " 6: 138,\n",
       " 7: 23,\n",
       " 8: 596014,\n",
       " 9: 124,\n",
       " 10: 48,\n",
       " 11: 558073,\n",
       " 12: 175,\n",
       " 13: 47,\n",
       " 14: 542213,\n",
       " 15: 194,\n",
       " 16: 61,\n",
       " 17: 483274,\n",
       " 18: 268,\n",
       " 19: 67,\n",
       " 20: 383887,\n",
       " 21: 175,\n",
       " 22: 58,\n",
       " 23: 275038,\n",
       " 24: 111,\n",
       " 25: 34,\n",
       " 26: 181534,\n",
       " 27: 87,\n",
       " 28: 28,\n",
       " 29: 110212,\n",
       " 30: 70,\n",
       " 31: 20,\n",
       " 32: 62614,\n",
       " 33: 52,\n",
       " 34: 7,\n",
       " 35: 33548,\n",
       " 36: 17,\n",
       " 37: 4,\n",
       " 38: 16857,\n",
       " 39: 16,\n",
       " 40: 2,\n",
       " 41: 8037,\n",
       " 42: 8,\n",
       " 43: 2,\n",
       " 44: 3553,\n",
       " 45: 8,\n",
       " 46: 4,\n",
       " 47: 1619,\n",
       " 48: 2,\n",
       " 49: 2,\n",
       " 50: 628,\n",
       " 53: 223,\n",
       " 56: 92,\n",
       " 59: 34,\n",
       " 62: 15,\n",
       " 68: 4}"
      ]
     },
     "execution_count": 4,
     "metadata": {},
     "output_type": "execute_result"
    }
   ],
   "source": [
    "buckets = {}\n",
    "\n",
    "for triple in data[\"text\"]:\n",
    "    l = len(triple[1])\n",
    "    if l in buckets:\n",
    "        buckets[l] += 1\n",
    "    else:\n",
    "        buckets[l] = 1\n",
    "buckets"
   ]
  },
  {
   "cell_type": "code",
   "execution_count": 5,
   "metadata": {
    "collapsed": false
   },
   "outputs": [
    {
     "data": {
      "text/plain": [
       "191252"
      ]
     },
     "execution_count": 5,
     "metadata": {},
     "output_type": "execute_result"
    }
   ],
   "source": [
    "len(v)"
   ]
  },
  {
   "cell_type": "code",
   "execution_count": 6,
   "metadata": {
    "collapsed": false
   },
   "outputs": [
    {
     "data": {
      "text/plain": [
       "14541"
      ]
     },
     "execution_count": 6,
     "metadata": {},
     "output_type": "execute_result"
    }
   ],
   "source": [
    "len(cv)"
   ]
  }
 ],
 "metadata": {
  "kernelspec": {
   "display_name": "Python 2",
   "language": "python",
   "name": "python2"
  },
  "language_info": {
   "codemirror_mode": {
    "name": "ipython",
    "version": 2
   },
   "file_extension": ".py",
   "mimetype": "text/x-python",
   "name": "python",
   "nbconvert_exporter": "python",
   "pygments_lexer": "ipython2",
   "version": "2.7.6"
  }
 },
 "nbformat": 4,
 "nbformat_minor": 0
}
