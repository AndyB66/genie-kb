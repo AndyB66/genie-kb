{
 "cells": [
  {
   "cell_type": "code",
   "execution_count": 1,
   "metadata": {
    "collapsed": false
   },
   "outputs": [],
   "source": [
    "from kb.data.load_fb15k237 import *"
   ]
  },
  {
   "cell_type": "code",
   "execution_count": 2,
   "metadata": {
    "collapsed": false
   },
   "outputs": [],
   "source": [
    "kb = load_fb15k(\"/media/diwe01/Data2/corpora/KB_completion/FB15K_237\",)"
   ]
  },
  {
   "cell_type": "code",
   "execution_count": 9,
   "metadata": {
    "collapsed": false
   },
   "outputs": [
    {
     "data": {
      "text/plain": [
       "(('/location/country/form_of_government', '/m/027rn', '/m/06cx9'),\n",
       " True,\n",
       " 'train')"
      ]
     },
     "execution_count": 9,
     "metadata": {},
     "output_type": "execute_result"
    }
   ],
   "source": [
    "kb.get_all_facts_of_arity(2, \"train\")[0]"
   ]
  },
  {
   "cell_type": "code",
   "execution_count": 12,
   "metadata": {
    "collapsed": false
   },
   "outputs": [
    {
     "data": {
      "text/plain": [
       "True"
      ]
     },
     "execution_count": 12,
     "metadata": {},
     "output_type": "execute_result"
    }
   ],
   "source": [
    "fact = kb.get_all_facts_of_arity(2, \"train\")[0]\n",
    "kb.contains_fact(fact[1], fact[2], fact[0][0], fact[0][1], fact[0][2])"
   ]
  },
  {
   "cell_type": "code",
   "execution_count": 7,
   "metadata": {
    "collapsed": true
   },
   "outputs": [],
   "source": [
    "#  index tuples by subject and object\n",
    "#subj_facts = [[] for k in cv.keys()]\n",
    "#obj_facts = [[] for k in cv.keys()]\n",
    "subj_obj_facts = dict()\n",
    "tup_dict = dict()\n",
    "\n",
    "for triple in data[\"train\"]:\n",
    "    subj = triple[0]\n",
    "    obj = triple[2]\n",
    "    #subj_facts[subj].append(triple)\n",
    "    #obj_facts[subj].append(triple)\n",
    "    tup = (subj, obj)\n",
    "    if tup not in tup_dict:\n",
    "        subj_obj_facts[tup] = [triple]\n",
    "        tup_dict[tup] = len(tup_dict)\n",
    "    else:\n",
    "        subj_obj_facts[tup].append(triple)\n",
    "\n",
    "subj_obj_text = dict()\n",
    "\n",
    "for triple in data[\"text\"]:\n",
    "    subj = triple[0]\n",
    "    obj = triple[2]\n",
    "    tup = (subj, obj)\n",
    "    tup2 = (obj, subj)\n",
    "    if tup not in subj_obj_text:\n",
    "        subj_obj_text[tup] = [triple]\n",
    "    else:\n",
    "        subj_obj_text[tup].append(triple)\n",
    "    if tup2 not in subj_obj_text:\n",
    "        subj_obj_text[tup2] = [triple]\n",
    "    else:\n",
    "        subj_obj_text[tup2].append(triple)\n"
   ]
  },
  {
   "cell_type": "code",
   "execution_count": 8,
   "metadata": {
    "collapsed": false,
    "scrolled": true
   },
   "outputs": [
    {
     "data": {
      "text/plain": [
       "{0: 152619,\n",
       " 1: 9680,\n",
       " 2: 12990,\n",
       " 3: 4681,\n",
       " 4: 6401,\n",
       " 5: 3150,\n",
       " 6: 4110,\n",
       " 7: 2365,\n",
       " 8: 3083,\n",
       " 9: 2009,\n",
       " 10: 2486,\n",
       " 11: 1674,\n",
       " 12: 2067,\n",
       " 13: 1557,\n",
       " 14: 1816,\n",
       " 15: 1498,\n",
       " 16: 1643,\n",
       " 17: 1464,\n",
       " 18: 1546,\n",
       " 19: 1313,\n",
       " 20: 1474,\n",
       " 21: 1233,\n",
       " 22: 1448,\n",
       " 23: 1334,\n",
       " 24: 1320,\n",
       " 25: 1179,\n",
       " 26: 1323,\n",
       " 27: 1101,\n",
       " 28: 1204,\n",
       " 29: 1068,\n",
       " 30: 1016,\n",
       " 31: 1002,\n",
       " 32: 939,\n",
       " 33: 813,\n",
       " 34: 866,\n",
       " 35: 722,\n",
       " 36: 807,\n",
       " 37: 634,\n",
       " 38: 585,\n",
       " 39: 531,\n",
       " 40: 554,\n",
       " 41: 510,\n",
       " 42: 461,\n",
       " 43: 423,\n",
       " 44: 386,\n",
       " 45: 367,\n",
       " 46: 384,\n",
       " 47: 281,\n",
       " 48: 303,\n",
       " 49: 246,\n",
       " 50: 246,\n",
       " 51: 225,\n",
       " 52: 241,\n",
       " 53: 191,\n",
       " 54: 187,\n",
       " 55: 140,\n",
       " 56: 146,\n",
       " 57: 115,\n",
       " 58: 125,\n",
       " 59: 118,\n",
       " 60: 109,\n",
       " 61: 65,\n",
       " 62: 88,\n",
       " 63: 72,\n",
       " 64: 58,\n",
       " 65: 42,\n",
       " 66: 36,\n",
       " 67: 32,\n",
       " 68: 34,\n",
       " 69: 20,\n",
       " 70: 25,\n",
       " 71: 14,\n",
       " 72: 22,\n",
       " 73: 5,\n",
       " 74: 11,\n",
       " 75: 6,\n",
       " 76: 4,\n",
       " 77: 3,\n",
       " 78: 4,\n",
       " 79: 2,\n",
       " 80: 2,\n",
       " 81: 4,\n",
       " 82: 2,\n",
       " 84: 5,\n",
       " 85: 2,\n",
       " 90: 1,\n",
       " 94: 2,\n",
       " 110: 2}"
      ]
     },
     "execution_count": 8,
     "metadata": {},
     "output_type": "execute_result"
    }
   ],
   "source": [
    "num_text_mentions = {}\n",
    "\n",
    "for tup in tup_dict:\n",
    "    l = 0 # len(subj_obj_facts[tup])\n",
    "    l2 = subj_obj_text.get(tup)\n",
    "    if l2:\n",
    "        l += len(l2)\n",
    "    if l in num_text_mentions:\n",
    "        num_text_mentions[l] += 1\n",
    "    else:\n",
    "        num_text_mentions[l] = 1\n",
    "num_text_mentions"
   ]
  },
  {
   "cell_type": "code",
   "execution_count": 4,
   "metadata": {
    "collapsed": true
   },
   "outputs": [
    {
     "data": {
      "text/plain": [
       "{0: 1236,\n",
       " 2: 86340,\n",
       " 5: 552247,\n",
       " 6: 138,\n",
       " 7: 23,\n",
       " 8: 596014,\n",
       " 9: 124,\n",
       " 10: 48,\n",
       " 11: 558073,\n",
       " 12: 175,\n",
       " 13: 47,\n",
       " 14: 542213,\n",
       " 15: 194,\n",
       " 16: 61,\n",
       " 17: 483274,\n",
       " 18: 268,\n",
       " 19: 67,\n",
       " 20: 383887,\n",
       " 21: 175,\n",
       " 22: 58,\n",
       " 23: 275038,\n",
       " 24: 111,\n",
       " 25: 34,\n",
       " 26: 181534,\n",
       " 27: 87,\n",
       " 28: 28,\n",
       " 29: 110212,\n",
       " 30: 70,\n",
       " 31: 20,\n",
       " 32: 62614,\n",
       " 33: 52,\n",
       " 34: 7,\n",
       " 35: 33548,\n",
       " 36: 17,\n",
       " 37: 4,\n",
       " 38: 16857,\n",
       " 39: 16,\n",
       " 40: 2,\n",
       " 41: 8037,\n",
       " 42: 8,\n",
       " 43: 2,\n",
       " 44: 3553,\n",
       " 45: 8,\n",
       " 46: 4,\n",
       " 47: 1619,\n",
       " 48: 2,\n",
       " 49: 2,\n",
       " 50: 628,\n",
       " 53: 223,\n",
       " 56: 92,\n",
       " 59: 34,\n",
       " 62: 15,\n",
       " 68: 4}"
      ]
     },
     "execution_count": 4,
     "metadata": {},
     "output_type": "execute_result"
    }
   ],
   "source": [
    "buckets = {}\n",
    "\n",
    "for triple in data[\"text\"]:\n",
    "    l = len(triple[1])\n",
    "    if l in buckets:\n",
    "        buckets[l] += 1\n",
    "    else:\n",
    "        buckets[l] = 1\n",
    "buckets"
   ]
  },
  {
   "cell_type": "code",
   "execution_count": 47,
   "metadata": {
    "collapsed": false
   },
   "outputs": [],
   "source": [
    "concept_types = dict()\n",
    "type_concepts = dict()\n",
    "for subj, [rel], obj in data[\"train\"]:\n",
    "    if subj not in concept_types:\n",
    "        concept_types[subj] = set()\n",
    "    if obj not in concept_types:\n",
    "        concept_types[obj] = set()\n",
    "    \n",
    "    subj_typ = str(rel) + \"_s\"\n",
    "    if subj_typ not in type_concepts:\n",
    "        type_concepts[subj_typ] = set()\n",
    "    type_concepts[subj_typ].add(subj)\n",
    "    \n",
    "    obj_typ = str(rel) + \"_o\"\n",
    "    if obj_typ not in type_concepts:\n",
    "        type_concepts[obj_typ] = set()\n",
    "    type_concepts[obj_typ].add(obj)\n",
    "    \n",
    "    concept_types[subj].add(subj_typ)\n",
    "    concept_types[obj].add(obj_typ)"
   ]
  },
  {
   "cell_type": "code",
   "execution_count": 40,
   "metadata": {
    "collapsed": false
   },
   "outputs": [],
   "source": [
    "rel_types = dict()\n",
    "for subj, rel, obj in data[\"train\"]:\n",
    "    rel = rel[0]\n",
    "    if rel not in rel_types:\n",
    "        rel_types[rel] = (dict(), dict())\n",
    "    r_ts = rel_types[rel]\n",
    "    for t in concept_types[subj]:\n",
    "        if t not in r_ts[0]:\n",
    "            r_ts[0][t] = 0\n",
    "        r_ts[0][t] += 1\n",
    "    for t in concept_types[obj]:\n",
    "        if t not in r_ts[1]:\n",
    "            r_ts[1][t] = 0\n",
    "        r_ts[1][t] += 1"
   ]
  },
  {
   "cell_type": "code",
   "execution_count": 44,
   "metadata": {
    "collapsed": false
   },
   "outputs": [],
   "source": [
    "sorted_rel_types = []\n",
    "for rel, types in rel_types.iteritems():\n",
    "    while len(sorted_rel_types) <= rel:\n",
    "        sorted_rel_types.append(([],[]))\n",
    "    sorted_rel_types[rel][0].extend(sorted(types[0].items(), key=lambda x:-x[1]))\n",
    "    sorted_rel_types[rel][1].extend(sorted(types[1].items(), key=lambda x:-x[1]))"
   ]
  },
  {
   "cell_type": "code",
   "execution_count": 52,
   "metadata": {
    "collapsed": false
   },
   "outputs": [
    {
     "data": {
      "text/plain": [
       "594"
      ]
     },
     "execution_count": 52,
     "metadata": {},
     "output_type": "execute_result"
    }
   ],
   "source": [
    "len(type_concepts[\"100_s\"])"
   ]
  },
  {
   "cell_type": "code",
   "execution_count": 13,
   "metadata": {
    "collapsed": true
   },
   "outputs": [],
   "source": [
    "rev_v = {v:k for k,v in v.iteritems()}\n",
    "rev_cv = {v:k for k,v in cv.iteritems()}"
   ]
  },
  {
   "cell_type": "code",
   "execution_count": 64,
   "metadata": {
    "collapsed": true
   },
   "outputs": [],
   "source": [
    "import random    "
   ]
  },
  {
   "cell_type": "code",
   "execution_count": 67,
   "metadata": {
    "collapsed": true
   },
   "outputs": [],
   "source": [
    "\n",
    "def sample(num_negative):\n",
    "    i = random.randint(0, len(data[\"train\"]))\n",
    "    (subj, rel, obj) = data[\"train\"][i]\n",
    "    negatives = list()\n",
    "    \n",
    "    #sample by type\n",
    "    obj_typs = sorted_rel_types[rel[0]][1][:2]\n",
    "    typ_candidates = []\n",
    "    for t, _ in obj_typs:\n",
    "        typ_candidates.extend(type_concepts[t])\n",
    "    typ_candidates = filter(lambda x: x != obj, typ_candidates)\n",
    "    typ_candidates = random.sample(typ_candidates, int(num_negative/2))\n",
    "\n",
    "    return triple, typ_candidates\n",
    "        \n",
    "    \n"
   ]
  },
  {
   "cell_type": "code",
   "execution_count": 68,
   "metadata": {
    "collapsed": false
   },
   "outputs": [
    {
     "data": {
      "text/plain": [
       "((10244, [38], 8396), [1071, 9347, 3014])"
      ]
     },
     "execution_count": 68,
     "metadata": {},
     "output_type": "execute_result"
    }
   ],
   "source": [
    "sample(6)"
   ]
  },
  {
   "cell_type": "code",
   "execution_count": 1,
   "metadata": {
    "collapsed": false
   },
   "outputs": [
    {
     "ename": "SyntaxError",
     "evalue": "can't assign to literal (<ipython-input-1-f84155805178>, line 3)",
     "output_type": "error",
     "traceback": [
      "\u001b[1;36m  File \u001b[1;32m\"<ipython-input-1-f84155805178>\"\u001b[1;36m, line \u001b[1;32m3\u001b[0m\n\u001b[1;33m    for 1, i in l:\u001b[0m\n\u001b[1;31mSyntaxError\u001b[0m\u001b[1;31m:\u001b[0m can't assign to literal\n"
     ]
    }
   ],
   "source": [
    "l = [(1,2),(1,3),(2,1)]\n",
    "\n",
    "for 1, i in l:\n",
    "    print(i)"
   ]
  }
 ],
 "metadata": {
  "kernelspec": {
   "display_name": "Python 2",
   "language": "python",
   "name": "python2"
  },
  "language_info": {
   "codemirror_mode": {
    "name": "ipython",
    "version": 2
   },
   "file_extension": ".py",
   "mimetype": "text/x-python",
   "name": "python",
   "nbconvert_exporter": "python",
   "pygments_lexer": "ipython2",
   "version": "2.7.6"
  }
 },
 "nbformat": 4,
 "nbformat_minor": 0
}
