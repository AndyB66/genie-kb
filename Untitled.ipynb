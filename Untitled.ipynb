{
 "cells": [
  {
   "cell_type": "code",
   "execution_count": 1,
   "metadata": {
    "collapsed": true
   },
   "outputs": [],
   "source": [
    "import tensorflow as tf\n",
    "import numpy as np\n",
    "\n",
    "s = tf.InteractiveSession()"
   ]
  },
  {
   "cell_type": "code",
   "execution_count": 2,
   "metadata": {
    "collapsed": false
   },
   "outputs": [],
   "source": [
    "from model.kb_population import *"
   ]
  },
  {
   "cell_type": "code",
   "execution_count": 3,
   "metadata": {
    "collapsed": false
   },
   "outputs": [],
   "source": [
    "model = sample_model(s)"
   ]
  },
  {
   "cell_type": "code",
   "execution_count": 4,
   "metadata": {
    "collapsed": false
   },
   "outputs": [
    {
     "data": {
      "text/plain": [
       "[u'lr:0',\n",
       " u'step:0',\n",
       " u'fact/left/RNN/EmbeddingWrapper/embedding:0',\n",
       " u'fact/left/RNN/MultiRNNCell/Cell0/BasicLSTMCell/Linear/Matrix:0',\n",
       " u'fact/left/RNN/MultiRNNCell/Cell0/BasicLSTMCell/Linear/Bias:0',\n",
       " u'fact/right/RNN/EmbeddingWrapper/embedding:0',\n",
       " u'fact/right/RNN/MultiRNNCell/Cell0/BasicLSTMCell/Linear/Matrix:0',\n",
       " u'fact/right/RNN/MultiRNNCell/Cell0/BasicLSTMCell/Linear/Bias:0',\n",
       " u'beta1_power:0',\n",
       " u'beta2_power:0',\n",
       " u'query/left/RNN/EmbeddingWrapper/embedding:0',\n",
       " u'query/left/RNN/MultiRNNCell/Cell0/BasicLSTMCell/Linear/Matrix:0',\n",
       " u'query/left/RNN/MultiRNNCell/Cell0/BasicLSTMCell/Linear/Bias:0',\n",
       " u'query/right/RNN/EmbeddingWrapper/embedding:0',\n",
       " u'query/right/RNN/MultiRNNCell/Cell0/BasicLSTMCell/Linear/Matrix:0',\n",
       " u'query/right/RNN/MultiRNNCell/Cell0/BasicLSTMCell/Linear/Bias:0',\n",
       " u'classification/attention/w_proj:0',\n",
       " u'classification/attention/b_proj:0',\n",
       " u'classification/attention/w_att:0',\n",
       " u'classification/attention/w_score:0',\n",
       " u'classification/w_q_inter:0',\n",
       " u'classification/w_a_inter:0',\n",
       " u'classification/b_inter:0',\n",
       " u'classification/proj_w:0',\n",
       " u'classification/proj_b:0']"
      ]
     },
     "execution_count": 4,
     "metadata": {},
     "output_type": "execute_result"
    }
   ],
   "source": [
    "filter(lambda n: \"Adam\" not in n , map(lambda v: v.name, tf.all_variables()))"
   ]
  },
  {
   "cell_type": "code",
   "execution_count": 5,
   "metadata": {
    "collapsed": false
   },
   "outputs": [
    {
     "data": {
      "text/plain": [
       "[[<tensorflow.python.framework.ops.Tensor at 0x7f20984af750>,\n",
       "  <tensorflow.python.framework.ops.Tensor at 0x7f209834aed0>],\n",
       " [<tensorflow.python.framework.ops.Tensor at 0x7f20981901d0>,\n",
       "  <tensorflow.python.framework.ops.Tensor at 0x7f20980ef950>],\n",
       " [<tensorflow.python.framework.ops.Tensor at 0x7f2092729510>,\n",
       "  <tensorflow.python.framework.ops.Tensor at 0x7f2092609c90>]]"
      ]
     },
     "execution_count": 5,
     "metadata": {},
     "output_type": "execute_result"
    }
   ],
   "source": [
    "model.fact_left_outputs"
   ]
  },
  {
   "cell_type": "code",
   "execution_count": 6,
   "metadata": {
    "collapsed": false
   },
   "outputs": [],
   "source": [
    "s.run(tf.initialize_all_variables())"
   ]
  },
  {
   "cell_type": "code",
   "execution_count": 7,
   "metadata": {
    "collapsed": false
   },
   "outputs": [
    {
     "data": {
      "text/plain": [
       "array([[ 0.09009602,  0.048769  ,  0.02107634,  0.06581297,  0.02645845,\n",
       "        -0.00918434, -0.07213137,  0.0216641 ],\n",
       "       [ 0.0816207 ,  0.01348419,  0.05384391, -0.04873853, -0.05233951,\n",
       "         0.04461663, -0.0790998 ,  0.06082881],\n",
       "       [-0.05576043, -0.02375738,  0.06270609, -0.09169193, -0.02184389,\n",
       "         0.06087024, -0.03175473, -0.096747  ],\n",
       "       [-0.0073636 ,  0.07422221,  0.03645373, -0.09313963,  0.04770822,\n",
       "        -0.02821753,  0.04520267,  0.00905661]], dtype=float32)"
      ]
     },
     "execution_count": 7,
     "metadata": {},
     "output_type": "execute_result"
    }
   ],
   "source": [
    "s.run(tf.all_variables()[3])"
   ]
  },
  {
   "cell_type": "code",
   "execution_count": 13,
   "metadata": {
    "collapsed": false
   },
   "outputs": [
    {
     "ename": "InvalidArgumentError",
     "evalue": "You must feed a value for placeholder tensor 'fact/right/fact_right00' with dtype int32\n\t [[Node: fact/right/fact_right00 = Placeholder[dtype=DT_INT32, shape=[], _device=\"/job:localhost/replica:0/task:0/cpu:0\"]()]]\nCaused by op u'fact/right/fact_right00', defined at:\n  File \"/usr/lib/python2.7/runpy.py\", line 162, in _run_module_as_main\n    \"__main__\", fname, loader, pkg_name)\n  File \"/usr/lib/python2.7/runpy.py\", line 72, in _run_code\n    exec code in run_globals\n  File \"/usr/local/lib/python2.7/dist-packages/ipykernel/__main__.py\", line 3, in <module>\n    app.launch_new_instance()\n  File \"/usr/local/lib/python2.7/dist-packages/traitlets/config/application.py\", line 592, in launch_instance\n    app.start()\n  File \"/usr/local/lib/python2.7/dist-packages/ipykernel/kernelapp.py\", line 403, in start\n    ioloop.IOLoop.instance().start()\n  File \"/usr/local/lib/python2.7/dist-packages/zmq/eventloop/ioloop.py\", line 151, in start\n    super(ZMQIOLoop, self).start()\n  File \"/usr/local/lib/python2.7/dist-packages/tornado/ioloop.py\", line 866, in start\n    handler_func(fd_obj, events)\n  File \"/usr/local/lib/python2.7/dist-packages/tornado/stack_context.py\", line 275, in null_wrapper\n    return fn(*args, **kwargs)\n  File \"/usr/local/lib/python2.7/dist-packages/zmq/eventloop/zmqstream.py\", line 433, in _handle_events\n    self._handle_recv()\n  File \"/usr/local/lib/python2.7/dist-packages/zmq/eventloop/zmqstream.py\", line 465, in _handle_recv\n    self._run_callback(callback, msg)\n  File \"/usr/local/lib/python2.7/dist-packages/zmq/eventloop/zmqstream.py\", line 407, in _run_callback\n    callback(*args, **kwargs)\n  File \"/usr/local/lib/python2.7/dist-packages/tornado/stack_context.py\", line 275, in null_wrapper\n    return fn(*args, **kwargs)\n  File \"/usr/local/lib/python2.7/dist-packages/ipykernel/kernelbase.py\", line 260, in dispatcher\n    return self.dispatch_shell(stream, msg)\n  File \"/usr/local/lib/python2.7/dist-packages/ipykernel/kernelbase.py\", line 212, in dispatch_shell\n    handler(stream, idents, msg)\n  File \"/usr/local/lib/python2.7/dist-packages/ipykernel/kernelbase.py\", line 370, in execute_request\n    user_expressions, allow_stdin)\n  File \"/usr/local/lib/python2.7/dist-packages/ipykernel/ipkernel.py\", line 175, in do_execute\n    shell.run_cell(code, store_history=store_history, silent=silent)\n  File \"/usr/local/lib/python2.7/dist-packages/IPython/core/interactiveshell.py\", line 2902, in run_cell\n    interactivity=interactivity, compiler=compiler, result=result)\n  File \"/usr/local/lib/python2.7/dist-packages/IPython/core/interactiveshell.py\", line 3006, in run_ast_nodes\n    if self.run_code(code, result):\n  File \"/usr/local/lib/python2.7/dist-packages/IPython/core/interactiveshell.py\", line 3066, in run_code\n    exec(code_obj, self.user_global_ns, self.user_ns)\n  File \"<ipython-input-3-742326730ac3>\", line 1, in <module>\n    model = sample_model(s)\n  File \"model/kb_population.py\", line 297, in sample_model\n    left_query_buckets, right_query_buckets, batch_size, num_samples=1, forward_only=False)\n  File \"model/kb_population.py\", line 83, in __init__\n    name=\"fact_right{0}{1}\".format(j, i)))\n  File \"/usr/local/lib/python2.7/dist-packages/tensorflow/python/ops/array_ops.py\", line 673, in placeholder\n    name=name)\n  File \"/usr/local/lib/python2.7/dist-packages/tensorflow/python/ops/gen_array_ops.py\", line 463, in _placeholder\n    name=name)\n  File \"/usr/local/lib/python2.7/dist-packages/tensorflow/python/ops/op_def_library.py\", line 664, in apply_op\n    op_def=op_def)\n  File \"/usr/local/lib/python2.7/dist-packages/tensorflow/python/framework/ops.py\", line 1834, in create_op\n    original_op=self._default_original_op, op_def=op_def)\n  File \"/usr/local/lib/python2.7/dist-packages/tensorflow/python/framework/ops.py\", line 1043, in __init__\n    self._traceback = _extract_stack()\n",
     "output_type": "error",
     "traceback": [
      "\u001b[1;31m---------------------------------------------------------------------------\u001b[0m",
      "\u001b[1;31mInvalidArgumentError\u001b[0m                      Traceback (most recent call last)",
      "\u001b[1;32m<ipython-input-13-285af4ff4e67>\u001b[0m in \u001b[0;36m<module>\u001b[1;34m()\u001b[0m\n\u001b[0;32m      3\u001b[0m         \u001b[1;31m#model.fact_right_inputs[0][0]:np.array([1,1], dtype=np.int32),\u001b[0m\u001b[1;33m\u001b[0m\u001b[1;33m\u001b[0m\u001b[0m\n\u001b[0;32m      4\u001b[0m         \u001b[0mmodel\u001b[0m\u001b[1;33m.\u001b[0m\u001b[0mfact_right_outputs\u001b[0m\u001b[1;33m[\u001b[0m\u001b[1;36m0\u001b[0m\u001b[1;33m]\u001b[0m\u001b[1;33m[\u001b[0m\u001b[1;36m0\u001b[0m\u001b[1;33m]\u001b[0m\u001b[1;33m:\u001b[0m\u001b[0mout\u001b[0m\u001b[1;33m,\u001b[0m\u001b[1;33m\u001b[0m\u001b[0m\n\u001b[1;32m----> 5\u001b[1;33m         model.fact_right_grad[0]:np.array([[1,1],[-10,1]], dtype=np.int32)})\n\u001b[0m",
      "\u001b[1;32m/usr/local/lib/python2.7/dist-packages/tensorflow/python/client/session.pyc\u001b[0m in \u001b[0;36mrun\u001b[1;34m(self, fetches, feed_dict)\u001b[0m\n\u001b[0;32m    366\u001b[0m \u001b[1;33m\u001b[0m\u001b[0m\n\u001b[0;32m    367\u001b[0m     \u001b[1;31m# Run request and get response.\u001b[0m\u001b[1;33m\u001b[0m\u001b[1;33m\u001b[0m\u001b[0m\n\u001b[1;32m--> 368\u001b[1;33m     \u001b[0mresults\u001b[0m \u001b[1;33m=\u001b[0m \u001b[0mself\u001b[0m\u001b[1;33m.\u001b[0m\u001b[0m_do_run\u001b[0m\u001b[1;33m(\u001b[0m\u001b[0mtarget_list\u001b[0m\u001b[1;33m,\u001b[0m \u001b[0munique_fetch_targets\u001b[0m\u001b[1;33m,\u001b[0m \u001b[0mfeed_dict_string\u001b[0m\u001b[1;33m)\u001b[0m\u001b[1;33m\u001b[0m\u001b[0m\n\u001b[0m\u001b[0;32m    369\u001b[0m \u001b[1;33m\u001b[0m\u001b[0m\n\u001b[0;32m    370\u001b[0m     \u001b[1;31m# User may have fetched the same tensor multiple times, but we\u001b[0m\u001b[1;33m\u001b[0m\u001b[1;33m\u001b[0m\u001b[0m\n",
      "\u001b[1;32m/usr/local/lib/python2.7/dist-packages/tensorflow/python/client/session.pyc\u001b[0m in \u001b[0;36m_do_run\u001b[1;34m(self, target_list, fetch_list, feed_dict)\u001b[0m\n\u001b[0;32m    442\u001b[0m         \u001b[1;31m# pylint: disable=protected-access\u001b[0m\u001b[1;33m\u001b[0m\u001b[1;33m\u001b[0m\u001b[0m\n\u001b[0;32m    443\u001b[0m         raise errors._make_specific_exception(node_def, op, error_message,\n\u001b[1;32m--> 444\u001b[1;33m                                               e.code)\n\u001b[0m\u001b[0;32m    445\u001b[0m         \u001b[1;31m# pylint: enable=protected-access\u001b[0m\u001b[1;33m\u001b[0m\u001b[1;33m\u001b[0m\u001b[0m\n\u001b[0;32m    446\u001b[0m       \u001b[0msix\u001b[0m\u001b[1;33m.\u001b[0m\u001b[0mreraise\u001b[0m\u001b[1;33m(\u001b[0m\u001b[0me_type\u001b[0m\u001b[1;33m,\u001b[0m \u001b[0me_value\u001b[0m\u001b[1;33m,\u001b[0m \u001b[0me_traceback\u001b[0m\u001b[1;33m)\u001b[0m\u001b[1;33m\u001b[0m\u001b[0m\n",
      "\u001b[1;31mInvalidArgumentError\u001b[0m: You must feed a value for placeholder tensor 'fact/right/fact_right00' with dtype int32\n\t [[Node: fact/right/fact_right00 = Placeholder[dtype=DT_INT32, shape=[], _device=\"/job:localhost/replica:0/task:0/cpu:0\"]()]]\nCaused by op u'fact/right/fact_right00', defined at:\n  File \"/usr/lib/python2.7/runpy.py\", line 162, in _run_module_as_main\n    \"__main__\", fname, loader, pkg_name)\n  File \"/usr/lib/python2.7/runpy.py\", line 72, in _run_code\n    exec code in run_globals\n  File \"/usr/local/lib/python2.7/dist-packages/ipykernel/__main__.py\", line 3, in <module>\n    app.launch_new_instance()\n  File \"/usr/local/lib/python2.7/dist-packages/traitlets/config/application.py\", line 592, in launch_instance\n    app.start()\n  File \"/usr/local/lib/python2.7/dist-packages/ipykernel/kernelapp.py\", line 403, in start\n    ioloop.IOLoop.instance().start()\n  File \"/usr/local/lib/python2.7/dist-packages/zmq/eventloop/ioloop.py\", line 151, in start\n    super(ZMQIOLoop, self).start()\n  File \"/usr/local/lib/python2.7/dist-packages/tornado/ioloop.py\", line 866, in start\n    handler_func(fd_obj, events)\n  File \"/usr/local/lib/python2.7/dist-packages/tornado/stack_context.py\", line 275, in null_wrapper\n    return fn(*args, **kwargs)\n  File \"/usr/local/lib/python2.7/dist-packages/zmq/eventloop/zmqstream.py\", line 433, in _handle_events\n    self._handle_recv()\n  File \"/usr/local/lib/python2.7/dist-packages/zmq/eventloop/zmqstream.py\", line 465, in _handle_recv\n    self._run_callback(callback, msg)\n  File \"/usr/local/lib/python2.7/dist-packages/zmq/eventloop/zmqstream.py\", line 407, in _run_callback\n    callback(*args, **kwargs)\n  File \"/usr/local/lib/python2.7/dist-packages/tornado/stack_context.py\", line 275, in null_wrapper\n    return fn(*args, **kwargs)\n  File \"/usr/local/lib/python2.7/dist-packages/ipykernel/kernelbase.py\", line 260, in dispatcher\n    return self.dispatch_shell(stream, msg)\n  File \"/usr/local/lib/python2.7/dist-packages/ipykernel/kernelbase.py\", line 212, in dispatch_shell\n    handler(stream, idents, msg)\n  File \"/usr/local/lib/python2.7/dist-packages/ipykernel/kernelbase.py\", line 370, in execute_request\n    user_expressions, allow_stdin)\n  File \"/usr/local/lib/python2.7/dist-packages/ipykernel/ipkernel.py\", line 175, in do_execute\n    shell.run_cell(code, store_history=store_history, silent=silent)\n  File \"/usr/local/lib/python2.7/dist-packages/IPython/core/interactiveshell.py\", line 2902, in run_cell\n    interactivity=interactivity, compiler=compiler, result=result)\n  File \"/usr/local/lib/python2.7/dist-packages/IPython/core/interactiveshell.py\", line 3006, in run_ast_nodes\n    if self.run_code(code, result):\n  File \"/usr/local/lib/python2.7/dist-packages/IPython/core/interactiveshell.py\", line 3066, in run_code\n    exec(code_obj, self.user_global_ns, self.user_ns)\n  File \"<ipython-input-3-742326730ac3>\", line 1, in <module>\n    model = sample_model(s)\n  File \"model/kb_population.py\", line 297, in sample_model\n    left_query_buckets, right_query_buckets, batch_size, num_samples=1, forward_only=False)\n  File \"model/kb_population.py\", line 83, in __init__\n    name=\"fact_right{0}{1}\".format(j, i)))\n  File \"/usr/local/lib/python2.7/dist-packages/tensorflow/python/ops/array_ops.py\", line 673, in placeholder\n    name=name)\n  File \"/usr/local/lib/python2.7/dist-packages/tensorflow/python/ops/gen_array_ops.py\", line 463, in _placeholder\n    name=name)\n  File \"/usr/local/lib/python2.7/dist-packages/tensorflow/python/ops/op_def_library.py\", line 664, in apply_op\n    op_def=op_def)\n  File \"/usr/local/lib/python2.7/dist-packages/tensorflow/python/framework/ops.py\", line 1834, in create_op\n    original_op=self._default_original_op, op_def=op_def)\n  File \"/usr/local/lib/python2.7/dist-packages/tensorflow/python/framework/ops.py\", line 1043, in __init__\n    self._traceback = _extract_stack()\n"
     ]
    }
   ],
   "source": [
    "out = s.run(model.fact_right_outputs[0][0], feed_dict={model.fact_right_inputs[0][0]:np.array([0,1], dtype=np.int32)})\n",
    "s.run([model.fact_right_outputs[0][1]], feed_dict={\n",
    "        model.fact_right_inputs[0][1]:np.array([1,1], dtype=np.int32),\n",
    "        model.fact_right_outputs[0][0]:out, \n",
    "        model.fact_right_grad[0]:np.array([[1,1],[-10,1]], dtype=np.int32)})"
   ]
  },
  {
   "cell_type": "code",
   "execution_count": null,
   "metadata": {
    "collapsed": true
   },
   "outputs": [],
   "source": [
    "out2 = s.run(model.fact_right_outputs[0][1], feed_dict={\n",
    "        model.fact_right_inputs[0][1]:np.array([0,1], dtype=np.int32),\n",
    "        model.fact_right_outputs[0][0]:out})"
   ]
  },
  {
   "cell_type": "code",
   "execution_count": 17,
   "metadata": {
    "collapsed": false
   },
   "outputs": [
    {
     "data": {
      "text/plain": [
       "[array([[ -1.17765885e-05,  -1.22069148e-04],\n",
       "        [ -1.17765885e-05,  -1.22069148e-04]], dtype=float32),\n",
       " array([[ 0.00034455,  0.00012499],\n",
       "        [ 0.00034455,  0.00012499]], dtype=float32),\n",
       " array([[ -1.17765885e-05,  -1.22069148e-04],\n",
       "        [ -1.17765885e-05,  -1.22069148e-04]], dtype=float32),\n",
       " array([[ 0.00034455,  0.00012499],\n",
       "        [ 0.00034455,  0.00012499]], dtype=float32),\n",
       " array([[ -1.17765885e-05,  -1.22069148e-04],\n",
       "        [ -1.17765885e-05,  -1.22069148e-04]], dtype=float32),\n",
       " array([[ 0.00034455,  0.00012499],\n",
       "        [ 0.00034455,  0.00012499]], dtype=float32)]"
      ]
     },
     "execution_count": 17,
     "metadata": {},
     "output_type": "execute_result"
    }
   ],
   "source": [
    "batch_size = 2\n",
    "#forward\n",
    "left_fact_bucketid = 0\n",
    "right_fact_bucketid = 0\n",
    "left_query_bucketid = 0\n",
    "right_query_bucketid = 0\n",
    "\n",
    "inputs = {}\n",
    "fact_outputs = []\n",
    "for i in xrange(model.max_facts):\n",
    "    fact_outputs.append(model.fact_left_outputs[i][left_fact_bucketid])\n",
    "    fact_outputs.append(model.fact_right_outputs[i][left_fact_bucketid])\n",
    "    inputs[model.fact_left_inputs[i][left_fact_bucketid]] = np.zeros([batch_size])  # Example\n",
    "    inputs[model.fact_right_inputs[i][right_fact_bucketid]] = np.ones([batch_size])  # Example\n",
    "\n",
    "facts = s.run(fact_outputs, inputs)\n",
    "\n",
    "facts"
   ]
  },
  {
   "cell_type": "code",
   "execution_count": 16,
   "metadata": {
    "collapsed": false
   },
   "outputs": [
    {
     "data": {
      "text/plain": [
       "[array([[ -1.17765885e-05,  -1.22069148e-04,   3.44549713e-04,\n",
       "           1.24990795e-04],\n",
       "        [ -1.17765885e-05,  -1.22069148e-04,   3.44549713e-04,\n",
       "           1.24990795e-04]], dtype=float32),\n",
       " array([[ -1.17765885e-05,  -1.22069148e-04,   3.44549713e-04,\n",
       "           1.24990795e-04],\n",
       "        [ -1.17765885e-05,  -1.22069148e-04,   3.44549713e-04,\n",
       "           1.24990795e-04]], dtype=float32),\n",
       " array([[ -1.17765885e-05,  -1.22069148e-04,   3.44549713e-04,\n",
       "           1.24990795e-04],\n",
       "        [ -1.17765885e-05,  -1.22069148e-04,   3.44549713e-04,\n",
       "           1.24990795e-04]], dtype=float32)]"
      ]
     },
     "execution_count": 16,
     "metadata": {},
     "output_type": "execute_result"
    }
   ],
   "source": [
    "concat_facts"
   ]
  },
  {
   "cell_type": "code",
   "execution_count": 2,
   "metadata": {
    "collapsed": false
   },
   "outputs": [],
   "source": [
    "a = tf.placeholder(tf.float32,[2])\n",
    "b = tf.placeholder(tf.float32,[2])\n",
    "c = a+b\n",
    "d = a+c"
   ]
  },
  {
   "cell_type": "code",
   "execution_count": 5,
   "metadata": {
    "collapsed": false
   },
   "outputs": [
    {
     "data": {
      "text/plain": [
       "array([ 1.,  1.], dtype=float32)"
      ]
     },
     "execution_count": 5,
     "metadata": {},
     "output_type": "execute_result"
    }
   ],
   "source": [
    "s.run(d, feed_dict={a:np.ones([2]), c:np.zeros([2])})"
   ]
  },
  {
   "cell_type": "code",
   "execution_count": null,
   "metadata": {
    "collapsed": true
   },
   "outputs": [],
   "source": []
  }
 ],
 "metadata": {
  "kernelspec": {
   "display_name": "Python 2",
   "language": "python",
   "name": "python2"
  },
  "language_info": {
   "codemirror_mode": {
    "name": "ipython",
    "version": 2
   },
   "file_extension": ".py",
   "mimetype": "text/x-python",
   "name": "python",
   "nbconvert_exporter": "python",
   "pygments_lexer": "ipython2",
   "version": "2.7.6"
  }
 },
 "nbformat": 4,
 "nbformat_minor": 0
}
