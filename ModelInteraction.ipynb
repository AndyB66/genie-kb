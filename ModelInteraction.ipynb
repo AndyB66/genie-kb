{
 "cells": [
  {
   "cell_type": "code",
   "execution_count": 1,
   "metadata": {
    "collapsed": true
   },
   "outputs": [],
   "source": [
    "import tensorflow as tf\n",
    "import numpy as np\n",
    "\n",
    "s = tf.InteractiveSession()"
   ]
  },
  {
   "cell_type": "code",
   "execution_count": 2,
   "metadata": {
    "collapsed": false
   },
   "outputs": [],
   "source": [
    "from model.kb_population import *"
   ]
  },
  {
   "cell_type": "code",
   "execution_count": 3,
   "metadata": {
    "collapsed": false
   },
   "outputs": [],
   "source": [
    "model = sample_model(s)"
   ]
  },
  {
   "cell_type": "code",
   "execution_count": 4,
   "metadata": {
    "collapsed": false
   },
   "outputs": [
    {
     "data": {
      "text/plain": [
       "[u'fact/left/RNN/EmbeddingWrapper/embedding:0',\n",
       " u'fact/left/RNN/MultiRNNCell/Cell0/BasicLSTMCell/Linear/Matrix:0',\n",
       " u'fact/left/RNN/MultiRNNCell/Cell0/BasicLSTMCell/Linear/Bias:0',\n",
       " u'fact/right/RNN/EmbeddingWrapper/embedding:0',\n",
       " u'fact/right/RNN/MultiRNNCell/Cell0/BasicLSTMCell/Linear/Matrix:0',\n",
       " u'fact/right/RNN/MultiRNNCell/Cell0/BasicLSTMCell/Linear/Bias:0',\n",
       " u'query/left/RNN/EmbeddingWrapper/embedding:0',\n",
       " u'query/left/RNN/MultiRNNCell/Cell0/BasicLSTMCell/Linear/Matrix:0',\n",
       " u'query/left/RNN/MultiRNNCell/Cell0/BasicLSTMCell/Linear/Bias:0',\n",
       " u'query/right/RNN/EmbeddingWrapper/embedding:0',\n",
       " u'query/right/RNN/MultiRNNCell/Cell0/BasicLSTMCell/Linear/Matrix:0',\n",
       " u'query/right/RNN/MultiRNNCell/Cell0/BasicLSTMCell/Linear/Bias:0',\n",
       " u'classification/attention/w_proj:0',\n",
       " u'classification/attention/b_proj:0',\n",
       " u'classification/attention/w_att:0',\n",
       " u'classification/attention/w_score:0',\n",
       " u'classification/w_q_inter:0',\n",
       " u'classification/w_a_inter:0',\n",
       " u'classification/b_inter:0',\n",
       " u'classification/proj_w:0',\n",
       " u'classification/proj_b:0']"
      ]
     },
     "execution_count": 4,
     "metadata": {},
     "output_type": "execute_result"
    }
   ],
   "source": [
    "map(lambda v: v.name, tf.trainable_variables())"
   ]
  },
  {
   "cell_type": "code",
   "execution_count": 5,
   "metadata": {
    "collapsed": false
   },
   "outputs": [
    {
     "data": {
      "text/plain": [
       "[[<tensorflow.python.framework.ops.IndexedSlices at 0x7f2dd6690b50>,\n",
       "  <tensorflow.python.framework.ops.Tensor at 0x7f2dd66fba90>,\n",
       "  <tensorflow.python.framework.ops.Tensor at 0x7f2dd66fb390>],\n",
       " [<tensorflow.python.framework.ops.IndexedSlices at 0x7f2dd62ecf10>,\n",
       "  <tensorflow.python.framework.ops.Tensor at 0x7f2dd6292d50>,\n",
       "  <tensorflow.python.framework.ops.Tensor at 0x7f2dd62ddb10>]]"
      ]
     },
     "execution_count": 5,
     "metadata": {},
     "output_type": "execute_result"
    }
   ],
   "source": [
    "model.fact_left_rnns[1].grads"
   ]
  },
  {
   "cell_type": "code",
   "execution_count": 6,
   "metadata": {
    "collapsed": false
   },
   "outputs": [],
   "source": [
    "s.run(tf.initialize_all_variables())"
   ]
  },
  {
   "cell_type": "code",
   "execution_count": 13,
   "metadata": {
    "collapsed": false
   },
   "outputs": [
    {
     "data": {
      "text/plain": [
       "array([[ 0.02800972,  0.09775228, -0.01115346, -0.00649111, -0.05368328,\n",
       "         0.01207046,  0.07981195, -0.03507855],\n",
       "       [ 0.08302356,  0.04159   , -0.05133739, -0.01720567,  0.08242323,\n",
       "         0.05165475,  0.04352088, -0.08779841],\n",
       "       [ 0.00868559,  0.05444861, -0.05486369, -0.09518442,  0.09478817,\n",
       "         0.03224761,  0.06359459, -0.05946524],\n",
       "       [ 0.07140889,  0.01672158,  0.03913409, -0.07339261,  0.08426569,\n",
       "         0.0890832 ,  0.04402249, -0.02796014]], dtype=float32)"
      ]
     },
     "execution_count": 13,
     "metadata": {},
     "output_type": "execute_result"
    }
   ],
   "source": [
    "s.run(tf.trainable_variables()[4])"
   ]
  },
  {
   "cell_type": "code",
   "execution_count": 1,
   "metadata": {
    "collapsed": false
   },
   "outputs": [],
   "source": [
    "import tensorflow as tf\n",
    "import numpy as np\n",
    "from model.kb_population import *\n",
    "\n",
    "s = tf.InteractiveSession()\n",
    "\n",
    "batch_size = 2\n",
    "model = sample_model(s, batch_size=batch_size, forward_only=False)\n",
    "s.run(tf.initialize_all_variables())\n",
    "\n",
    " # ----- FORWARD ------\n",
    "# facts\n",
    "left_fact_bucket_ids = [0, 0, 0]\n",
    "right_fact_bucket_ids = [0, 0, 0]\n",
    "\n",
    "fact_inputs = {}\n",
    "fact_outputs = []\n",
    "for i in xrange(model.max_facts):\n",
    "    fact_outputs.append(model.fact_left_rnns[i].outputs[left_fact_bucket_ids[i]])\n",
    "    fact_outputs.append(model.fact_right_rnns[i].outputs[right_fact_bucket_ids[i]])\n",
    "    fact_inputs[model.fact_left_rnns[i].inputs[0]] = np.zeros([batch_size])  # Example\n",
    "    fact_inputs[model.fact_right_rnns[i].inputs[0]] = np.ones([batch_size])  # Example\n",
    "\n",
    "dep_fact_tensors = get_dep_tensors(fact_outputs, fact_inputs.keys())\n",
    "dep_fact_tensors = fact_outputs + [t for t in dep_fact_tensors if t not in fact_outputs]\n",
    "fact_state = s.run(dep_fact_tensors, fact_inputs)\n",
    "\n",
    "# concatenate left and right fact embeddings for each fact\n",
    "concat_facts = []\n",
    "for i in xrange(model.max_facts):\n",
    "    concat_facts.append(np.concatenate((fact_state[2*i], fact_state[2*i+1]), 1))"
   ]
  },
  {
   "cell_type": "code",
   "execution_count": 2,
   "metadata": {
    "collapsed": false
   },
   "outputs": [],
   "source": [
    "# Query\n",
    "left_query_bucket_id = 0\n",
    "right_query_bucket_id = 0\n",
    "\n",
    "query_inputs = {}\n",
    "query_outputs = [model.query_left_rnn.outputs[left_query_bucket_id],\n",
    "                 model.query_right_rnn.outputs[right_query_bucket_id]]\n",
    "\n",
    "query_inputs[model.query_left_rnn.inputs[0]] = np.zeros([batch_size])  # Example\n",
    "query_inputs[model.query_right_rnn.inputs[0]] = np.ones([batch_size])  # Example\n",
    "\n",
    "dep_query_tensors = list(get_dep_tensors(query_outputs, query_inputs.keys()))\n",
    "dep_query_tensors = query_outputs + filter(lambda t: t not in query_outputs, dep_query_tensors)\n",
    "query_state = s.run(dep_query_tensors, query_inputs)\n",
    "\n",
    "concat_query = np.concatenate((query_state[0], query_state[1]), 1)"
   ]
  },
  {
   "cell_type": "code",
   "execution_count": 3,
   "metadata": {
    "collapsed": false,
    "scrolled": true
   },
   "outputs": [],
   "source": [
    "# Classification\n",
    "classification_input = dict(zip(model.attention_states_input, concat_facts))\n",
    "classification_input[model.query_input] = concat_query\n",
    "classification_input[model.neg_candidates] = np.array([[1], [0]])\n",
    "classification_input[model.labels] = np.array([0,1])\n",
    "classification_input[model.sampling_prob] = np.array([[1.0], [1.0]])\n",
    "\n",
    "grads = s.run([model.update, model.loss, model.query_input_grad] + model.attention_states_grads,\n",
    "              feed_dict=classification_input)\n",
    "\n",
    "loss = grads[1]\n",
    "query_grad = grads[2]\n",
    "fact_grads = grads[3:]"
   ]
  },
  {
   "cell_type": "code",
   "execution_count": 4,
   "metadata": {
    "collapsed": false
   },
   "outputs": [
    {
     "data": {
      "text/plain": [
       "[None, None, None, None, None, None]"
      ]
     },
     "execution_count": 4,
     "metadata": {},
     "output_type": "execute_result"
    }
   ],
   "source": [
    "# facts\n",
    "fact_updates = []\n",
    "fact_inputs_u = dict(fact_inputs)\n",
    "for i in xrange(model.max_facts):\n",
    "    g = fact_grads[i]\n",
    "    fact_inputs_u[model.fact_left_rnns[i].out_grad] = g[:, :g.shape[1]/2]\n",
    "    fact_inputs_u[model.fact_right_rnns[i].out_grad] = g[:, g.shape[1]/2:]\n",
    "    fact_updates.append(model.fact_left_rnns[i].updates[left_fact_bucket_ids[i]])\n",
    "    fact_updates.append(model.fact_right_rnns[i].updates[right_fact_bucket_ids[i]])\n",
    "\n",
    "for i in xrange(len(dep_fact_tensors)):\n",
    "    fact_inputs_u[dep_fact_tensors[i]] = fact_state[i]\n",
    "\n",
    "s.run(fact_updates, fact_inputs_u)"
   ]
  },
  {
   "cell_type": "code",
   "execution_count": 5,
   "metadata": {
    "collapsed": false
   },
   "outputs": [
    {
     "data": {
      "text/plain": [
       "[None, None]"
      ]
     },
     "execution_count": 5,
     "metadata": {},
     "output_type": "execute_result"
    }
   ],
   "source": [
    " # query\n",
    "query_updates = []\n",
    "query_updates.append(model.query_left_rnn.updates[left_query_bucket_id])\n",
    "query_updates.append(model.query_right_rnn.updates[right_query_bucket_id])\n",
    "#query_updates.append(model.query_left_rnn.grads[left_query_bucket_id][1])\n",
    "#query_updates.append(model.query_right_rnn.grads[left_query_bucket_id][1])\n",
    "query_inputs_u = dict(query_inputs)\n",
    "query_inputs_u[model.query_left_rnn.out_grad] = query_grad[:, :query_grad.shape[1]/2]\n",
    "query_inputs_u[model.query_right_rnn.out_grad] = query_grad[:, query_grad.shape[1]/2:]\n",
    "\n",
    "for i in xrange(len(dep_query_tensors)):\n",
    "    query_inputs_u[dep_query_tensors[i]] = query_state[i]\n",
    "\n",
    "s.run(query_updates, query_inputs_u)"
   ]
  },
  {
   "cell_type": "code",
   "execution_count": 6,
   "metadata": {
    "collapsed": false,
    "scrolled": true
   },
   "outputs": [
    {
     "data": {
      "text/plain": [
       "[(u'query/left/RNN/MultiRNNCell/Cell0/BasicLSTMCell/mul_2:0',\n",
       "  array([[-0.00039665,  0.00037709],\n",
       "         [-0.00039665,  0.00037709]], dtype=float32)),\n",
       " (u'query/right/RNN/MultiRNNCell/Cell0/BasicLSTMCell/mul_2:0',\n",
       "  array([[ 0.00070209,  0.00196058],\n",
       "         [ 0.00070209,  0.00196058]], dtype=float32)),\n",
       " (u'query/right/RNN/pack/values_1:0', 4),\n",
       " (u'query/left/RNN/MultiRNNCell/Cell0/BasicLSTMCell/Sigmoid_2:0',\n",
       "  array([[ 0.50017822,  0.49971548],\n",
       "         [ 0.50017822,  0.49971548]], dtype=float32)),\n",
       " (u'query/right/RNN/Slice:0', array([2], dtype=int32)),\n",
       " (u'query/right/RNN/MultiRNNCell/Cell0/BasicLSTMCell/Linear/Bias/read:0',\n",
       "  array([ 0.,  0.,  0.,  0.,  0.,  0.,  0.,  0.], dtype=float32)),\n",
       " (u'query/right/RNN/MultiRNNCell/Cell0/Slice/size:0',\n",
       "  array([-1,  4], dtype=int32)),\n",
       " (u'query/right/RNN/MultiRNNCell/Cell0/BasicLSTMCell/mul:0', array([[ 0.,  0.],\n",
       "         [ 0.,  0.]], dtype=float32)),\n",
       " (u'query/right/RNN/MultiRNNCell/Cell0/BasicLSTMCell/split:0',\n",
       "  array([[ 0.,  0.],\n",
       "         [ 0.,  0.]], dtype=float32)),\n",
       " (u'query/left/RNN/zeros:0', array([[ 0.,  0.,  0.,  0.],\n",
       "         [ 0.,  0.,  0.,  0.]], dtype=float32)),\n",
       " (u'query/right/RNN/MultiRNNCell/Cell0/BasicLSTMCell/Sigmoid_2:0',\n",
       "  array([[ 0.50017923,  0.49943903],\n",
       "         [ 0.50017923,  0.49943903]], dtype=float32)),\n",
       " (u'query/left/RNN/Slice/begin:0', array([0], dtype=int32)),\n",
       " (u'query/left/RNN/MultiRNNCell/Cell0/BasicLSTMCell/split_1:2',\n",
       "  array([[-0.00111269,  0.0008776 ],\n",
       "         [-0.00111269,  0.0008776 ]], dtype=float32)),\n",
       " (u'query/left/RNN/MultiRNNCell/Cell0/Slice/size:0',\n",
       "  array([-1,  4], dtype=int32)),\n",
       " (u'query/right/RNN/zeros:0', array([[ 0.,  0.,  0.,  0.],\n",
       "         [ 0.,  0.,  0.,  0.]], dtype=float32)),\n",
       " (u'query/right/RNN/MultiRNNCell/Cell0/BasicLSTMCell/Tanh:0',\n",
       "  array([[ 0.00281458,  0.00786264],\n",
       "         [ 0.00281458,  0.00786264]], dtype=float32)),\n",
       " (u'query/left/RNN/Slice/size:0', array([1], dtype=int32)),\n",
       " (u'query/right/RNN/MultiRNNCell/Cell0/BasicLSTMCell/add_1/y:0', 0.0),\n",
       " (u'query/left/RNN/pack:0', array([2, 4], dtype=int32)),\n",
       " (u'query/left/RNN/MultiRNNCell/Cell0/Slice/begin:0',\n",
       "  array([0, 0], dtype=int32)),\n",
       " (u'query/right/RNN/MultiRNNCell/Cell0/BasicLSTMCell/Linear/Bias:0',\n",
       "  array([ 0.,  0.,  0.,  0.,  0.,  0.,  0.,  0.], dtype=float32)),\n",
       " (u'query/left/RNN/MultiRNNCell/Cell0/BasicLSTMCell/Linear/Matrix/read:0',\n",
       "  array([[-0.09350491,  0.00507116, -0.03501961,  0.07473613,  0.05756057,\n",
       "          -0.03453233,  0.06288547,  0.05652044],\n",
       "         [-0.09444666,  0.00708757,  0.08625998, -0.07693479,  0.07090486,\n",
       "          -0.05455589, -0.03286471,  0.07222312],\n",
       "         [-0.08357332,  0.09356887,  0.06944995, -0.04425561,  0.01075468,\n",
       "           0.07344697,  0.06580446,  0.04834133],\n",
       "         [ 0.09346098, -0.06187084,  0.01418833, -0.09264459,  0.04804093,\n",
       "           0.02022891,  0.01108632, -0.06535041]], dtype=float32)),\n",
       " (u'query/right/RNN/MultiRNNCell/Cell0/BasicLSTMCell/mul_1:0',\n",
       "  array([[ 0.00140367,  0.00392558],\n",
       "         [ 0.00140367,  0.00392558]], dtype=float32)),\n",
       " (u'query/left/RNN/MultiRNNCell/Cell0/Slice:0', array([[ 0.,  0.,  0.,  0.],\n",
       "         [ 0.,  0.,  0.,  0.]], dtype=float32)),\n",
       " (u'query/left/RNN/MultiRNNCell/Cell0/BasicLSTMCell/Tanh:0',\n",
       "  array([[-0.00158487,  0.0015093 ],\n",
       "         [-0.00158487,  0.0015093 ]], dtype=float32)),\n",
       " (u'query/left/RNN/MultiRNNCell/Cell0/BasicLSTMCell/split_1:0',\n",
       "  array([[ 0.00144507, -0.00011273],\n",
       "         [ 0.00144507, -0.00011273]], dtype=float32)),\n",
       " (u'query/right/RNN/MultiRNNCell/Cell0/BasicLSTMCell/Linear/Matrix/read:0',\n",
       "  array([[ 0.02335989,  0.04543085, -0.07866859, -0.09792536, -0.06882954,\n",
       "           0.01053943,  0.06245217, -0.0562032 ],\n",
       "         [-0.04733741,  0.00741921, -0.04434616,  0.00600846, -0.08307672,\n",
       "           0.06003544,  0.07664599, -0.09142172],\n",
       "         [ 0.05472288, -0.03575929, -0.08627305, -0.08927663,  0.09734631,\n",
       "           0.01042072,  0.04690485, -0.08225777],\n",
       "         [-0.0123442 ,  0.00039158, -0.02780946, -0.02540469, -0.09328001,\n",
       "          -0.04288254,  0.04738159,  0.01465447]], dtype=float32)),\n",
       " (u'query/right/RNN/MultiRNNCell/Cell0/BasicLSTMCell/Sigmoid_1:0',\n",
       "  array([[ 0.49871382,  0.49926978],\n",
       "         [ 0.49871382,  0.49926978]], dtype=float32)),\n",
       " (u'query/right/RNN/Squeeze:0', 2),\n",
       " (u'query/left/RNN/pack/values_1:0', 4),\n",
       " (u'query/left/RNN/EmbeddingWrapper/embedding:0',\n",
       "  array([[ 0.0022012 , -0.01747958],\n",
       "         [ 0.07573193, -0.04558406]], dtype=float32)),\n",
       " (u'query/left/RNN/EmbeddingWrapper/Reshape:0', array([0, 0], dtype=int32)),\n",
       " (u'query/right/RNN/EmbeddingWrapper/Reshape/shape:0',\n",
       "  array([-1], dtype=int32)),\n",
       " (u'query/left/RNN/EmbeddingWrapper/Reshape/shape:0',\n",
       "  array([-1], dtype=int32)),\n",
       " (u'query/left/RNN/MultiRNNCell/Cell0/BasicLSTMCell/split_1/split_dim:0', 1),\n",
       " (u'query/right/RNN/MultiRNNCell/Cell0/BasicLSTMCell/add_2:0',\n",
       "  array([[ 0.00140367,  0.00392558],\n",
       "         [ 0.00140367,  0.00392558]], dtype=float32)),\n",
       " (u'query/left/RNN/MultiRNNCell/Cell0/BasicLSTMCell/split_1:1',\n",
       "  array([[-0.00158487,  0.0015093 ],\n",
       "         [-0.00158487,  0.0015093 ]], dtype=float32)),\n",
       " (u'query/right/RNN/MultiRNNCell/Cell0/BasicLSTMCell/split_1:0',\n",
       "  array([[-0.00514486, -0.00292091],\n",
       "         [-0.00514486, -0.00292091]], dtype=float32)),\n",
       " (u'query/left/RNN/MultiRNNCell/Cell0/BasicLSTMCell/Linear/concat:0',\n",
       "  array([[ 0.0022012 , -0.01747958,  0.        ,  0.        ],\n",
       "         [ 0.0022012 , -0.01747958,  0.        ,  0.        ]], dtype=float32)),\n",
       " (u'query/right/RNN/Shape:0', array([2], dtype=int32)),\n",
       " (u'query/left/RNN/MultiRNNCell/Cell0/BasicLSTMCell/Tanh_1:0',\n",
       "  array([[-0.00079301,  0.00075461],\n",
       "         [-0.00079301,  0.00075461]], dtype=float32)),\n",
       " (u'query/left/RNN/Slice:0', array([2], dtype=int32)),\n",
       " (u'query/left/RNN/MultiRNNCell/Cell0/BasicLSTMCell/split/split_dim:0', 1),\n",
       " (u'query/right/RNN/MultiRNNCell/Cell0/BasicLSTMCell/split_1/split_dim:0', 1),\n",
       " (u'query/right/RNN/MultiRNNCell/Cell0/BasicLSTMCell/Linear/concat:0',\n",
       "  array([[-0.07592406,  0.07121804,  0.        ,  0.        ],\n",
       "         [-0.07592406,  0.07121804,  0.        ,  0.        ]], dtype=float32)),\n",
       " (u'query/right/RNN/EmbeddingWrapper/embedding/read:0',\n",
       "  array([[ 0.02227781, -0.07335553],\n",
       "         [-0.07592406,  0.07121804]], dtype=float32)),\n",
       " (u'query/right/RNN/MultiRNNCell/Cell0/BasicLSTMCell/Tanh_1:0',\n",
       "  array([[ 0.00140367,  0.00392556],\n",
       "         [ 0.00140367,  0.00392556]], dtype=float32)),\n",
       " (u'query/left/RNN/zeros/Const:0', 0.0),\n",
       " (u'query/right/RNN/MultiRNNCell/Cell0/BasicLSTMCell/split_1:1',\n",
       "  array([[ 0.00281459,  0.0078628 ],\n",
       "         [ 0.00281459,  0.0078628 ]], dtype=float32)),\n",
       " (u'query/left/RNN/EmbeddingWrapper/embedding_lookup:0',\n",
       "  array([[ 0.0022012 , -0.01747958],\n",
       "         [ 0.0022012 , -0.01747958]], dtype=float32)),\n",
       " (u'query/left/RNN/MultiRNNCell/Cell0/BasicLSTMCell/Linear/MatMul:0',\n",
       "  array([[ 0.00144507, -0.00011273, -0.00158487,  0.0015093 , -0.00111269,\n",
       "           0.0008776 ,  0.00071288, -0.00113802],\n",
       "         [ 0.00144507, -0.00011273, -0.00158487,  0.0015093 , -0.00111269,\n",
       "           0.0008776 ,  0.00071288, -0.00113802]], dtype=float32)),\n",
       " (u'query/right/RNN/MultiRNNCell/Cell0/BasicLSTMCell/split/split_dim:0', 1),\n",
       " (u'query/right/RNN/MultiRNNCell/Cell0/BasicLSTMCell/Linear/MatMul:0',\n",
       "  array([[-0.00514486, -0.00292091,  0.00281459,  0.0078628 , -0.00069074,\n",
       "           0.00347541,  0.00071695, -0.0022437 ],\n",
       "         [-0.00514486, -0.00292091,  0.00281459,  0.0078628 , -0.00069074,\n",
       "           0.00347541,  0.00071695, -0.0022437 ]], dtype=float32)),\n",
       " (u'query/right/RNN/MultiRNNCell/Cell0/BasicLSTMCell/Linear/concat/concat_dim:0',\n",
       "  1),\n",
       " (u'query/left/RNN/MultiRNNCell/Cell0/BasicLSTMCell/split:0',\n",
       "  array([[ 0.,  0.],\n",
       "         [ 0.,  0.]], dtype=float32)),\n",
       " (u'query/right/RNN/EmbeddingWrapper/Reshape:0', array([1, 1], dtype=int32)),\n",
       " (u'query/left/RNN/MultiRNNCell/Cell0/BasicLSTMCell/add_1/y:0', 0.0),\n",
       " (u'query/right/RNN/zeros/Const:0', 0.0),\n",
       " (u'query/right/RNN/EmbeddingWrapper/embedding_lookup:0',\n",
       "  array([[-0.07592406,  0.07121804],\n",
       "         [-0.07592406,  0.07121804]], dtype=float32)),\n",
       " (u'query/left/RNN/MultiRNNCell/Cell0/BasicLSTMCell/Sigmoid:0',\n",
       "  array([[ 0.4997218,  0.5002194],\n",
       "         [ 0.4997218,  0.5002194]], dtype=float32)),\n",
       " (u'query/right/RNN/MultiRNNCell/Cell0/BasicLSTMCell/add:0',\n",
       "  array([[-0.00514486, -0.00292091,  0.00281459,  0.0078628 , -0.00069074,\n",
       "           0.00347541,  0.00071695, -0.0022437 ],\n",
       "         [-0.00514486, -0.00292091,  0.00281459,  0.0078628 , -0.00069074,\n",
       "           0.00347541,  0.00071695, -0.0022437 ]], dtype=float32)),\n",
       " (u'query/right/RNN/Slice/begin:0', array([0], dtype=int32)),\n",
       " (u'query/right/RNN/Slice/size:0', array([1], dtype=int32)),\n",
       " (u'query/left/RNN/MultiRNNCell/Cell0/BasicLSTMCell/mul:0', array([[ 0.,  0.],\n",
       "         [ 0.,  0.]], dtype=float32)),\n",
       " (u'query/right/RNN/pack:0', array([2, 4], dtype=int32)),\n",
       " (u'query/right/RNN/EmbeddingWrapper/embedding:0',\n",
       "  array([[ 0.02227781, -0.07335553],\n",
       "         [-0.07592406,  0.07121804]], dtype=float32)),\n",
       " (u'query/left/RNN/MultiRNNCell/Cell0/BasicLSTMCell/Sigmoid_1:0',\n",
       "  array([[ 0.50036126,  0.49997181],\n",
       "         [ 0.50036126,  0.49997181]], dtype=float32)),\n",
       " (u'query/right/RNN/MultiRNNCell/Cell0/Slice/begin:0',\n",
       "  array([0, 0], dtype=int32)),\n",
       " (u'query/left/RNN/MultiRNNCell/Cell0/BasicLSTMCell/Linear/Bias/read:0',\n",
       "  array([ 0.,  0.,  0.,  0.,  0.,  0.,  0.,  0.], dtype=float32)),\n",
       " (u'query/right/RNN/MultiRNNCell/Cell0/BasicLSTMCell/add_1:0',\n",
       "  array([[-0.00069074,  0.00347541],\n",
       "         [-0.00069074,  0.00347541]], dtype=float32)),\n",
       " (u'query/left/RNN/EmbeddingWrapper/embedding/read:0',\n",
       "  array([[ 0.0022012 , -0.01747958],\n",
       "         [ 0.07573193, -0.04558406]], dtype=float32)),\n",
       " (u'query/right/RNN/MultiRNNCell/Cell0/BasicLSTMCell/Sigmoid:0',\n",
       "  array([[ 0.49982733,  0.50086886],\n",
       "         [ 0.49982733,  0.50086886]], dtype=float32)),\n",
       " (u'query/left/RNN/MultiRNNCell/Cell0/BasicLSTMCell/Linear/Bias:0',\n",
       "  array([ 0.,  0.,  0.,  0.,  0.,  0.,  0.,  0.], dtype=float32)),\n",
       " (u'query/left/RNN/Squeeze:0', 2),\n",
       " (u'query/right/RNN/MultiRNNCell/Cell0/Slice:0', array([[ 0.,  0.,  0.,  0.],\n",
       "         [ 0.,  0.,  0.,  0.]], dtype=float32)),\n",
       " (u'query/left/RNN/MultiRNNCell/Cell0/BasicLSTMCell/Linear/Matrix:0',\n",
       "  array([[-0.09350491,  0.00507116, -0.03501961,  0.07473613,  0.05756057,\n",
       "          -0.03453233,  0.06288547,  0.05652044],\n",
       "         [-0.09444666,  0.00708757,  0.08625998, -0.07693479,  0.07090486,\n",
       "          -0.05455589, -0.03286471,  0.07222312],\n",
       "         [-0.08357332,  0.09356887,  0.06944995, -0.04425561,  0.01075468,\n",
       "           0.07344697,  0.06580446,  0.04834133],\n",
       "         [ 0.09346098, -0.06187084,  0.01418833, -0.09264459,  0.04804093,\n",
       "           0.02022891,  0.01108632, -0.06535041]], dtype=float32)),\n",
       " (u'query/left/RNN/MultiRNNCell/Cell0/BasicLSTMCell/mul_1:0',\n",
       "  array([[-0.00079301,  0.00075461],\n",
       "         [-0.00079301,  0.00075461]], dtype=float32)),\n",
       " (u'query/right/RNN/MultiRNNCell/Cell0/BasicLSTMCell/split_1:3',\n",
       "  array([[ 0.00071695, -0.0022437 ],\n",
       "         [ 0.00071695, -0.0022437 ]], dtype=float32)),\n",
       " (u'query/left/RNN/Shape:0', array([2], dtype=int32)),\n",
       " (u'query/left/RNN/MultiRNNCell/Cell0/BasicLSTMCell/split_1:3',\n",
       "  array([[ 0.00071288, -0.00113802],\n",
       "         [ 0.00071288, -0.00113802]], dtype=float32)),\n",
       " (u'query/left/RNN/MultiRNNCell/Cell0/BasicLSTMCell/Linear/concat/concat_dim:0',\n",
       "  1),\n",
       " (u'query/left/RNN/MultiRNNCell/Cell0/BasicLSTMCell/add_2:0',\n",
       "  array([[-0.00079301,  0.00075461],\n",
       "         [-0.00079301,  0.00075461]], dtype=float32)),\n",
       " (u'query/left/RNN/MultiRNNCell/Cell0/BasicLSTMCell/add:0',\n",
       "  array([[ 0.00144507, -0.00011273, -0.00158487,  0.0015093 , -0.00111269,\n",
       "           0.0008776 ,  0.00071288, -0.00113802],\n",
       "         [ 0.00144507, -0.00011273, -0.00158487,  0.0015093 , -0.00111269,\n",
       "           0.0008776 ,  0.00071288, -0.00113802]], dtype=float32)),\n",
       " (u'query/left/RNN/MultiRNNCell/Cell0/BasicLSTMCell/split:1',\n",
       "  array([[ 0.,  0.],\n",
       "         [ 0.,  0.]], dtype=float32)),\n",
       " (u'query/left/RNN/MultiRNNCell/Cell0/BasicLSTMCell/add_1:0',\n",
       "  array([[-0.00111269,  0.0008776 ],\n",
       "         [-0.00111269,  0.0008776 ]], dtype=float32)),\n",
       " (u'query/right/RNN/MultiRNNCell/Cell0/BasicLSTMCell/split:1',\n",
       "  array([[ 0.,  0.],\n",
       "         [ 0.,  0.]], dtype=float32)),\n",
       " (u'query/right/RNN/MultiRNNCell/Cell0/BasicLSTMCell/split_1:2',\n",
       "  array([[-0.00069074,  0.00347541],\n",
       "         [-0.00069074,  0.00347541]], dtype=float32)),\n",
       " (u'query/right/RNN/MultiRNNCell/Cell0/BasicLSTMCell/Linear/Matrix:0',\n",
       "  array([[ 0.02335989,  0.04543085, -0.07866859, -0.09792536, -0.06882954,\n",
       "           0.01053943,  0.06245217, -0.0562032 ],\n",
       "         [-0.04733741,  0.00741921, -0.04434616,  0.00600846, -0.08307672,\n",
       "           0.06003544,  0.07664599, -0.09142172],\n",
       "         [ 0.05472288, -0.03575929, -0.08627305, -0.08927663,  0.09734631,\n",
       "           0.01042072,  0.04690485, -0.08225777],\n",
       "         [-0.0123442 ,  0.00039158, -0.02780946, -0.02540469, -0.09328001,\n",
       "          -0.04288254,  0.04738159,  0.01465447]], dtype=float32))]"
      ]
     },
     "execution_count": 6,
     "metadata": {},
     "output_type": "execute_result"
    }
   ],
   "source": [
    "map(lambda t: (t[0].name,t[1]) , zip(dep_query_tensors, query_state))"
   ]
  },
  {
   "cell_type": "code",
   "execution_count": 10,
   "metadata": {
    "collapsed": false
   },
   "outputs": [],
   "source": [
    "def get_dep_tensors(output_tensors, input_tensors, current=None):\n",
    "    res = set()\n",
    "    for o in output_tensors:\n",
    "        if o not in input_tensors:  # we do not want to add placeholders, for example\n",
    "            current_new = set()\n",
    "            current_new.add(o)\n",
    "            if current:\n",
    "                current_new = current_new.union(current)\n",
    "            res = res.union(get_dep_tensors(o.op.inputs, input_tensors, current_new))\n",
    "        else:\n",
    "            res = res.union(current)\n",
    "    return res"
   ]
  },
  {
   "cell_type": "code",
   "execution_count": 12,
   "metadata": {
    "collapsed": false,
    "scrolled": true
   },
   "outputs": [
    {
     "data": {
      "text/plain": [
       "54"
      ]
     },
     "execution_count": 12,
     "metadata": {},
     "output_type": "execute_result"
    }
   ],
   "source": [
    "len(map(lambda t: t.name, get_dep_tensors(query_outputs, query_inputs.keys())))"
   ]
  },
  {
   "cell_type": "code",
   "execution_count": null,
   "metadata": {
    "collapsed": true
   },
   "outputs": [],
   "source": []
  }
 ],
 "metadata": {
  "kernelspec": {
   "display_name": "Python 2",
   "language": "python",
   "name": "python2"
  },
  "language_info": {
   "codemirror_mode": {
    "name": "ipython",
    "version": 2
   },
   "file_extension": ".py",
   "mimetype": "text/x-python",
   "name": "python",
   "nbconvert_exporter": "python",
   "pygments_lexer": "ipython2",
   "version": "2.7.6"
  }
 },
 "nbformat": 4,
 "nbformat_minor": 0
}
