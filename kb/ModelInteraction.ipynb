{
 "cells": [
  {
   "cell_type": "code",
   "execution_count": 1,
   "metadata": {
    "collapsed": false
   },
   "outputs": [],
   "source": [
    "from model.models import *\n",
    "from kb import *\n",
    "import tensorflow as tf"
   ]
  },
  {
   "cell_type": "code",
   "execution_count": 2,
   "metadata": {
    "collapsed": false
   },
   "outputs": [],
   "source": [
    "s = tf.InteractiveSession()"
   ]
  },
  {
   "cell_type": "code",
   "execution_count": 3,
   "metadata": {
    "collapsed": false
   },
   "outputs": [],
   "source": [
    "from data.load_fb15k237 import *\n",
    "KB = load_fb15k(\"/media/diwe01/Data2/corpora/KB_completion/FB15K_237\", with_text=False)"
   ]
  },
  {
   "cell_type": "code",
   "execution_count": 4,
   "metadata": {
    "collapsed": false
   },
   "outputs": [],
   "source": [
    "num_neg=2\n",
    "batch_size = (num_neg+1)*10\n",
    "\n",
    "from sampler import *\n",
    "sampler = BatchNegTypeSampler(KB, batch_size, neg_per_pos=num_neg)\n",
    "#text_sampler = BatchNegTypeSampler(KB, batch_size, \"train_text\")"
   ]
  },
  {
   "cell_type": "code",
   "execution_count": 5,
   "metadata": {
    "collapsed": false,
    "scrolled": true
   },
   "outputs": [],
   "source": [
    "model = DistMult(KB, 10, batch_size, num_neg=num_neg, is_batch_training=True)"
   ]
  },
  {
   "cell_type": "code",
   "execution_count": 6,
   "metadata": {
    "collapsed": false
   },
   "outputs": [],
   "source": [
    "s.run(tf.initialize_all_variables())"
   ]
  },
  {
   "cell_type": "code",
   "execution_count": 14,
   "metadata": {
    "collapsed": false
   },
   "outputs": [],
   "source": [
    "facts = map(lambda x: x[0], list(KB.get_all_facts_of_arity(2,\"test\"))[:15])"
   ]
  },
  {
   "cell_type": "code",
   "execution_count": 16,
   "metadata": {
    "collapsed": false,
    "scrolled": false
   },
   "outputs": [
    {
     "name": "stdout",
     "output_type": "stream",
     "text": [
      "MRR: 0.07283\n",
      "Top10: 0.06667\n"
     ]
    }
   ],
   "source": [
    "import eval\n",
    "eval.eval_triples(s, KB, model, facts)"
   ]
  },
  {
   "cell_type": "code",
   "execution_count": null,
   "metadata": {
    "collapsed": false,
    "scrolled": false
   },
   "outputs": [],
   "source": [
    "import time\n",
    "start = time.time()\n",
    "\n",
    "l = 0\n",
    "\n",
    "for i in xrange(10):\n",
    "    pos, negs = sampler.get_batch()\n",
    "    l1 = model.step(s, pos, negs, mode=\"accumulate\")\n",
    "    l += l1\n",
    "\n",
    "print(time.time()-start)\n",
    "    \n",
    "l / 1"
   ]
  },
  {
   "cell_type": "code",
   "execution_count": null,
   "metadata": {
    "collapsed": false
   },
   "outputs": [],
   "source": [
    "print(reduce( lambda acc,g: acc+np.linalg.norm(g), s.run( model._acc_gradients), 0.0))\n",
    "#s.run(model._reset)\n",
    "#reduce( lambda acc,g: acc+np.linalg.norm(g), s.run( model._acc_gradients), 0.0)"
   ]
  },
  {
   "cell_type": "code",
   "execution_count": 15,
   "metadata": {
    "collapsed": false
   },
   "outputs": [
    {
     "data": {
      "text/plain": [
       "1.3959716272822507"
      ]
     },
     "execution_count": 15,
     "metadata": {},
     "output_type": "execute_result"
    }
   ],
   "source": [
    "np.linalg.norm(np.random.random((2,2)))"
   ]
  },
  {
   "cell_type": "code",
   "execution_count": null,
   "metadata": {
    "collapsed": false
   },
   "outputs": [],
   "source": [
    "model.score_triples(s, facts)"
   ]
  },
  {
   "cell_type": "code",
   "execution_count": null,
   "metadata": {
    "collapsed": false
   },
   "outputs": [],
   "source": [
    "from kb.eval.eval import *"
   ]
  },
  {
   "cell_type": "code",
   "execution_count": null,
   "metadata": {
    "collapsed": false
   },
   "outputs": [],
   "source": [
    "eval_triples(s, KB, model, facts)"
   ]
  },
  {
   "cell_type": "code",
   "execution_count": null,
   "metadata": {
    "collapsed": false
   },
   "outputs": [],
   "source": [
    "eval_triples(s, KB, model, facts)"
   ]
  },
  {
   "cell_type": "code",
   "execution_count": null,
   "metadata": {
    "collapsed": false
   },
   "outputs": [],
   "source": [
    "rank_triple(s, KB, model, facts[0])"
   ]
  },
  {
   "cell_type": "code",
   "execution_count": null,
   "metadata": {
    "collapsed": false
   },
   "outputs": [],
   "source": [
    "dim = 2\n",
    "(rel, subj, obj) = facts[0]\n",
    "\n",
    "neg_triples = filter(lambda e:\n",
    "                   not kb.contains_fact(True, \"train\", rel, subj, e),\n",
    "                   kb.get_symbols(dim))\n",
    "\n",
    "neg_triples = map(lambda e: (rel, subj, e), neg_triples)\n"
   ]
  },
  {
   "cell_type": "code",
   "execution_count": null,
   "metadata": {
    "collapsed": false
   },
   "outputs": [],
   "source": [
    "len(neg_triples)"
   ]
  },
  {
   "cell_type": "code",
   "execution_count": null,
   "metadata": {
    "collapsed": false
   },
   "outputs": [],
   "source": [
    "x = np.random.random((3))\n",
    "print(np.argsort(x)[::-1])\n",
    "print(x)"
   ]
  },
  {
   "cell_type": "code",
   "execution_count": null,
   "metadata": {
    "collapsed": false
   },
   "outputs": [],
   "source": [
    "x = np.random.random((5,3))\n",
    "print x\n",
    "\n",
    "x[2:4]"
   ]
  },
  {
   "cell_type": "code",
   "execution_count": null,
   "metadata": {
    "collapsed": true
   },
   "outputs": [],
   "source": [
    "pos, negs = sampler.get_batch(neg_per_pos=num_neg)"
   ]
  },
  {
   "cell_type": "code",
   "execution_count": null,
   "metadata": {
    "collapsed": false
   },
   "outputs": [],
   "source": [
    "len(pos) + reduce(lambda acc, x: acc+len(x), negs, 0)"
   ]
  },
  {
   "cell_type": "code",
   "execution_count": null,
   "metadata": {
    "collapsed": false
   },
   "outputs": [],
   "source": [
    "sampler.get_batch(neg_per_pos=num_neg)"
   ]
  },
  {
   "cell_type": "code",
   "execution_count": 45,
   "metadata": {
    "collapsed": false
   },
   "outputs": [],
   "source": [
    "t = tf.Variable(np.zeros([4]))"
   ]
  },
  {
   "cell_type": "code",
   "execution_count": 46,
   "metadata": {
    "collapsed": false
   },
   "outputs": [],
   "source": [
    "s.run(tf.initialize_all_variables())"
   ]
  },
  {
   "cell_type": "code",
   "execution_count": 47,
   "metadata": {
    "collapsed": false
   },
   "outputs": [
    {
     "data": {
      "text/plain": [
       "array([ 0.,  0.,  0.,  0.])"
      ]
     },
     "execution_count": 47,
     "metadata": {},
     "output_type": "execute_result"
    }
   ],
   "source": [
    "t.eval()"
   ]
  },
  {
   "cell_type": "code",
   "execution_count": 48,
   "metadata": {
    "collapsed": false
   },
   "outputs": [],
   "source": [
    "s.run(t.initializer)"
   ]
  },
  {
   "cell_type": "code",
   "execution_count": 52,
   "metadata": {
    "collapsed": false
   },
   "outputs": [
    {
     "data": {
      "text/plain": [
       "array([ 0.1,  0.5,  0.1,  0.1])"
      ]
     },
     "execution_count": 52,
     "metadata": {},
     "output_type": "execute_result"
    }
   ],
   "source": [
    "ix = np.array([1])\n",
    "s.run(tf.maximum(t,0.1))"
   ]
  },
  {
   "cell_type": "code",
   "execution_count": 38,
   "metadata": {
    "collapsed": false
   },
   "outputs": [],
   "source": [
    "shape = t.get_shape()"
   ]
  },
  {
   "cell_type": "code",
   "execution_count": 42,
   "metadata": {
    "collapsed": false
   },
   "outputs": [
    {
     "data": {
      "text/plain": [
       "4"
      ]
     },
     "execution_count": 42,
     "metadata": {},
     "output_type": "execute_result"
    }
   ],
   "source": [
    "shape.num_elements()"
   ]
  },
  {
   "cell_type": "code",
   "execution_count": 3,
   "metadata": {
    "collapsed": false
   },
   "outputs": [],
   "source": [
    "from data.load_fb15k237 import *\n",
    "KB = load_fb15k(\"/media/diwe01/Data2/corpora/KB_completion/FB15K_237\", with_text=False)"
   ]
  },
  {
   "cell_type": "code",
   "execution_count": 4,
   "metadata": {
    "collapsed": false
   },
   "outputs": [],
   "source": [
    "batch_size = 200\n",
    "model = DistMult(KB, 10, batch_size, is_batch_training=True, num_neg=9)"
   ]
  },
  {
   "cell_type": "code",
   "execution_count": 6,
   "metadata": {
    "collapsed": false,
    "scrolled": true
   },
   "outputs": [
    {
     "data": {
      "text/plain": [
       "[u'lr/initial_value',\n",
       " u'lr',\n",
       " u'lr/Assign',\n",
       " u'lr/read',\n",
       " u'step/initial_value',\n",
       " u'step',\n",
       " u'step/Assign',\n",
       " u'step/read',\n",
       " u'rel',\n",
       " u'subj',\n",
       " u'obj',\n",
       " u'score/E_s/Initializer/random_uniform/shape',\n",
       " u'score/E_s/Initializer/random_uniform/min',\n",
       " u'score/E_s/Initializer/random_uniform/max',\n",
       " u'score/E_s/Initializer/random_uniform/RandomUniform',\n",
       " u'score/E_s/Initializer/random_uniform/sub',\n",
       " u'score/E_s/Initializer/random_uniform/mul',\n",
       " u'score/E_s/Initializer/random_uniform',\n",
       " u'score/E_s',\n",
       " u'score/E_s/Assign',\n",
       " u'score/E_s/read',\n",
       " u'score/E_o/Initializer/random_uniform/shape',\n",
       " u'score/E_o/Initializer/random_uniform/min',\n",
       " u'score/E_o/Initializer/random_uniform/max',\n",
       " u'score/E_o/Initializer/random_uniform/RandomUniform',\n",
       " u'score/E_o/Initializer/random_uniform/sub',\n",
       " u'score/E_o/Initializer/random_uniform/mul',\n",
       " u'score/E_o/Initializer/random_uniform',\n",
       " u'score/E_o',\n",
       " u'score/E_o/Assign',\n",
       " u'score/E_o/read',\n",
       " u'score/E_r/Initializer/random_uniform/shape',\n",
       " u'score/E_r/Initializer/random_uniform/min',\n",
       " u'score/E_r/Initializer/random_uniform/max',\n",
       " u'score/E_r/Initializer/random_uniform/RandomUniform',\n",
       " u'score/E_r/Initializer/random_uniform/sub',\n",
       " u'score/E_r/Initializer/random_uniform/mul',\n",
       " u'score/E_r/Initializer/random_uniform',\n",
       " u'score/E_r',\n",
       " u'score/E_r/Assign',\n",
       " u'score/E_r/read',\n",
       " u'score/embedding_lookup',\n",
       " u'score/Tanh',\n",
       " u'score/embedding_lookup_1',\n",
       " u'score/Tanh_1',\n",
       " u'score/embedding_lookup_2',\n",
       " u'score/Tanh_2',\n",
       " u'score/mul',\n",
       " u'score/ExpandDims/dim',\n",
       " u'score/ExpandDims',\n",
       " u'score/ExpandDims_1/dim',\n",
       " u'score/ExpandDims_1',\n",
       " u'score/BatchMatMul',\n",
       " u'score/Squeeze',\n",
       " u'Reshape/shape',\n",
       " u'Reshape',\n",
       " u'labels_constant',\n",
       " u'SoftmaxCrossEntropyWithLogits',\n",
       " u'Rank',\n",
       " u'range/start',\n",
       " u'range/delta',\n",
       " u'range',\n",
       " u'Sum',\n",
       " u'Cast/x',\n",
       " u'Cast',\n",
       " u'truediv',\n",
       " u'training_weight/initial_value',\n",
       " u'training_weight',\n",
       " u'training_weight/Assign',\n",
       " u'training_weight/read',\n",
       " u'gradients/truediv_grad/Shape',\n",
       " u'gradients/truediv_grad/Shape_1',\n",
       " u'gradients/truediv_grad/BroadcastGradientArgs',\n",
       " u'gradients/truediv_grad/truediv',\n",
       " u'gradients/truediv_grad/Sum',\n",
       " u'gradients/truediv_grad/Reshape',\n",
       " u'gradients/truediv_grad/Neg',\n",
       " u'gradients/truediv_grad/Square',\n",
       " u'gradients/truediv_grad/truediv_1',\n",
       " u'gradients/truediv_grad/mul',\n",
       " u'gradients/truediv_grad/Sum_1',\n",
       " u'gradients/truediv_grad/Reshape_1',\n",
       " u'gradients/Sum_grad/Shape',\n",
       " u'gradients/Sum_grad/Rank',\n",
       " u'gradients/Sum_grad/Shape_1',\n",
       " u'gradients/Sum_grad/range/start',\n",
       " u'gradients/Sum_grad/range/delta',\n",
       " u'gradients/Sum_grad/range',\n",
       " u'gradients/Sum_grad/Fill/value',\n",
       " u'gradients/Sum_grad/Fill',\n",
       " u'gradients/Sum_grad/DynamicStitch',\n",
       " u'gradients/Sum_grad/floordiv',\n",
       " u'gradients/Sum_grad/Reshape',\n",
       " u'gradients/Sum_grad/Tile',\n",
       " u'gradients/zeros_like/Shape',\n",
       " u'gradients/zeros_like/Const',\n",
       " u'gradients/zeros_like',\n",
       " u'gradients/SoftmaxCrossEntropyWithLogits_grad/ExpandDims/dim',\n",
       " u'gradients/SoftmaxCrossEntropyWithLogits_grad/ExpandDims',\n",
       " u'gradients/SoftmaxCrossEntropyWithLogits_grad/mul',\n",
       " u'gradients/Reshape_grad/Shape',\n",
       " u'gradients/Reshape_grad/Reshape',\n",
       " u'gradients/score/Squeeze_grad/Shape',\n",
       " u'gradients/score/Squeeze_grad/Reshape',\n",
       " u'gradients/score/BatchMatMul_grad/BatchMatMul',\n",
       " u'gradients/score/BatchMatMul_grad/BatchMatMul_1',\n",
       " u'gradients/score/ExpandDims_grad/Shape',\n",
       " u'gradients/score/ExpandDims_grad/Reshape',\n",
       " u'gradients/score/ExpandDims_1_grad/Shape',\n",
       " u'gradients/score/ExpandDims_1_grad/Reshape',\n",
       " u'gradients/score/Tanh_2_grad/Square',\n",
       " u'gradients/score/Tanh_2_grad/sub/x',\n",
       " u'gradients/score/Tanh_2_grad/sub',\n",
       " u'gradients/score/Tanh_2_grad/mul',\n",
       " u'gradients/score/mul_grad/Shape',\n",
       " u'gradients/score/mul_grad/Shape_1',\n",
       " u'gradients/score/mul_grad/BroadcastGradientArgs',\n",
       " u'gradients/score/mul_grad/mul',\n",
       " u'gradients/score/mul_grad/Sum',\n",
       " u'gradients/score/mul_grad/Reshape',\n",
       " u'gradients/score/mul_grad/mul_1',\n",
       " u'gradients/score/mul_grad/Sum_1',\n",
       " u'gradients/score/mul_grad/Reshape_1',\n",
       " u'gradients/score/embedding_lookup_2_grad/Shape',\n",
       " u'gradients/score/embedding_lookup_2_grad/Slice/begin',\n",
       " u'gradients/score/embedding_lookup_2_grad/Slice/size',\n",
       " u'gradients/score/embedding_lookup_2_grad/Slice',\n",
       " u'gradients/score/embedding_lookup_2_grad/concat/concat_dim',\n",
       " u'gradients/score/embedding_lookup_2_grad/concat/values_0',\n",
       " u'gradients/score/embedding_lookup_2_grad/concat',\n",
       " u'gradients/score/embedding_lookup_2_grad/Reshape',\n",
       " u'gradients/score/embedding_lookup_2_grad/Reshape_1/shape',\n",
       " u'gradients/score/embedding_lookup_2_grad/Reshape_1',\n",
       " u'gradients/score/Tanh_1_grad/Square',\n",
       " u'gradients/score/Tanh_1_grad/sub/x',\n",
       " u'gradients/score/Tanh_1_grad/sub',\n",
       " u'gradients/score/Tanh_1_grad/mul',\n",
       " u'gradients/score/Tanh_grad/Square',\n",
       " u'gradients/score/Tanh_grad/sub/x',\n",
       " u'gradients/score/Tanh_grad/sub',\n",
       " u'gradients/score/Tanh_grad/mul',\n",
       " u'gradients/concat',\n",
       " u'gradients/concat_1',\n",
       " u'gradients/score/embedding_lookup_1_grad/Shape',\n",
       " u'gradients/score/embedding_lookup_1_grad/Slice/begin',\n",
       " u'gradients/score/embedding_lookup_1_grad/Slice/size',\n",
       " u'gradients/score/embedding_lookup_1_grad/Slice',\n",
       " u'gradients/score/embedding_lookup_1_grad/concat/concat_dim',\n",
       " u'gradients/score/embedding_lookup_1_grad/concat/values_0',\n",
       " u'gradients/score/embedding_lookup_1_grad/concat',\n",
       " u'gradients/score/embedding_lookup_1_grad/Reshape',\n",
       " u'gradients/score/embedding_lookup_1_grad/Reshape_1/shape',\n",
       " u'gradients/score/embedding_lookup_1_grad/Reshape_1',\n",
       " u'gradients/score/embedding_lookup_grad/Shape',\n",
       " u'gradients/score/embedding_lookup_grad/Slice/begin',\n",
       " u'gradients/score/embedding_lookup_grad/Slice/size',\n",
       " u'gradients/score/embedding_lookup_grad/Slice',\n",
       " u'gradients/score/embedding_lookup_grad/concat/concat_dim',\n",
       " u'gradients/score/embedding_lookup_grad/concat/values_0',\n",
       " u'gradients/score/embedding_lookup_grad/concat',\n",
       " u'gradients/score/embedding_lookup_grad/Reshape',\n",
       " u'gradients/score/embedding_lookup_grad/Reshape_1/shape',\n",
       " u'gradients/score/embedding_lookup_grad/Reshape_1',\n",
       " u'gradients/concat_2',\n",
       " u'gradients/concat_3',\n",
       " u'gradients/concat_4',\n",
       " u'gradients/concat_5',\n",
       " u'batch_gradient/score/E_s:0/Initializer/Const',\n",
       " u'batch_gradient/score/E_s:0',\n",
       " u'batch_gradient/score/E_s:0/Assign',\n",
       " u'batch_gradient/score/E_s:0/read',\n",
       " u'batch_gradient/score/E_o:0/Initializer/Const',\n",
       " u'batch_gradient/score/E_o:0',\n",
       " u'batch_gradient/score/E_o:0/Assign',\n",
       " u'batch_gradient/score/E_o:0/read',\n",
       " u'batch_gradient/score/E_r:0/Initializer/Const',\n",
       " u'batch_gradient/score/E_r:0',\n",
       " u'batch_gradient/score/E_r:0/Assign',\n",
       " u'batch_gradient/score/E_r:0/read',\n",
       " u'acc_loss/Initializer/Const',\n",
       " u'acc_loss',\n",
       " u'acc_loss/Assign',\n",
       " u'acc_loss/read',\n",
       " u'GradientDescent/learning_rate',\n",
       " u'GradientDescent/update_batch_gradient/score/E_s:0/mul',\n",
       " u'GradientDescent/update_batch_gradient/score/E_s:0/ScatterSub',\n",
       " u'GradientDescent/update_batch_gradient/score/E_o:0/mul',\n",
       " u'GradientDescent/update_batch_gradient/score/E_o:0/ScatterSub',\n",
       " u'GradientDescent/update_batch_gradient/score/E_r:0/mul',\n",
       " u'GradientDescent/update_batch_gradient/score/E_r:0/ScatterSub',\n",
       " u'GradientDescent',\n",
       " u'GradientDescent_1/learning_rate',\n",
       " u'GradientDescent_1/update_acc_loss/ApplyGradientDescent',\n",
       " u'GradientDescent_1',\n",
       " u'beta1_power/initial_value',\n",
       " u'beta1_power',\n",
       " u'beta1_power/Assign',\n",
       " u'beta1_power/read',\n",
       " u'beta2_power/initial_value',\n",
       " u'beta2_power',\n",
       " u'beta2_power/Assign',\n",
       " u'beta2_power/read',\n",
       " u'zeros',\n",
       " u'score/E_s/Adam',\n",
       " u'score/E_s/Adam/Assign',\n",
       " u'score/E_s/Adam/read',\n",
       " u'zeros_1',\n",
       " u'score/E_s/Adam_1',\n",
       " u'score/E_s/Adam_1/Assign',\n",
       " u'score/E_s/Adam_1/read',\n",
       " u'zeros_2',\n",
       " u'score/E_o/Adam',\n",
       " u'score/E_o/Adam/Assign',\n",
       " u'score/E_o/Adam/read',\n",
       " u'zeros_3',\n",
       " u'score/E_o/Adam_1',\n",
       " u'score/E_o/Adam_1/Assign',\n",
       " u'score/E_o/Adam_1/read',\n",
       " u'zeros_4',\n",
       " u'score/E_r/Adam',\n",
       " u'score/E_r/Adam/Assign',\n",
       " u'score/E_r/Adam/read',\n",
       " u'zeros_5',\n",
       " u'score/E_r/Adam_1',\n",
       " u'score/E_r/Adam_1/Assign',\n",
       " u'score/E_r/Adam_1/read',\n",
       " u'Adam/beta1',\n",
       " u'Adam/beta2',\n",
       " u'Adam/epsilon',\n",
       " u'Adam/update_score/E_s/sub/x',\n",
       " u'Adam/update_score/E_s/sub',\n",
       " u'Adam/update_score/E_s/Sqrt',\n",
       " u'Adam/update_score/E_s/mul',\n",
       " u'Adam/update_score/E_s/sub_1/x',\n",
       " u'Adam/update_score/E_s/sub_1',\n",
       " u'Adam/update_score/E_s/truediv',\n",
       " u'Adam/update_score/E_s/sub_2/x',\n",
       " u'Adam/update_score/E_s/sub_2',\n",
       " u'Adam/update_score/E_s/mul_1',\n",
       " u'Adam/update_score/E_s/mul_2',\n",
       " u'Adam/update_score/E_s/Assign',\n",
       " u'Adam/update_score/E_s/ScatterAdd',\n",
       " u'Adam/update_score/E_s/mul_3',\n",
       " u'Adam/update_score/E_s/sub_3/x',\n",
       " u'Adam/update_score/E_s/sub_3',\n",
       " u'Adam/update_score/E_s/mul_4',\n",
       " u'Adam/update_score/E_s/mul_5',\n",
       " u'Adam/update_score/E_s/Assign_1',\n",
       " u'Adam/update_score/E_s/ScatterAdd_1',\n",
       " u'Adam/update_score/E_s/Sqrt_1',\n",
       " u'Adam/update_score/E_s/mul_6',\n",
       " u'Adam/update_score/E_s/add',\n",
       " u'Adam/update_score/E_s/truediv_1',\n",
       " u'Adam/update_score/E_s/AssignSub',\n",
       " u'Adam/update_score/E_s/group_deps',\n",
       " u'Adam/update_score/E_o/sub/x',\n",
       " u'Adam/update_score/E_o/sub',\n",
       " u'Adam/update_score/E_o/Sqrt',\n",
       " u'Adam/update_score/E_o/mul',\n",
       " u'Adam/update_score/E_o/sub_1/x',\n",
       " u'Adam/update_score/E_o/sub_1',\n",
       " u'Adam/update_score/E_o/truediv',\n",
       " u'Adam/update_score/E_o/sub_2/x',\n",
       " u'Adam/update_score/E_o/sub_2',\n",
       " u'Adam/update_score/E_o/mul_1',\n",
       " u'Adam/update_score/E_o/mul_2',\n",
       " u'Adam/update_score/E_o/Assign',\n",
       " u'Adam/update_score/E_o/ScatterAdd',\n",
       " u'Adam/update_score/E_o/mul_3',\n",
       " u'Adam/update_score/E_o/sub_3/x',\n",
       " u'Adam/update_score/E_o/sub_3',\n",
       " u'Adam/update_score/E_o/mul_4',\n",
       " u'Adam/update_score/E_o/mul_5',\n",
       " u'Adam/update_score/E_o/Assign_1',\n",
       " u'Adam/update_score/E_o/ScatterAdd_1',\n",
       " u'Adam/update_score/E_o/Sqrt_1',\n",
       " u'Adam/update_score/E_o/mul_6',\n",
       " u'Adam/update_score/E_o/add',\n",
       " u'Adam/update_score/E_o/truediv_1',\n",
       " u'Adam/update_score/E_o/AssignSub',\n",
       " u'Adam/update_score/E_o/group_deps',\n",
       " u'Adam/update_score/E_r/sub/x',\n",
       " u'Adam/update_score/E_r/sub',\n",
       " u'Adam/update_score/E_r/Sqrt',\n",
       " u'Adam/update_score/E_r/mul',\n",
       " u'Adam/update_score/E_r/sub_1/x',\n",
       " u'Adam/update_score/E_r/sub_1',\n",
       " u'Adam/update_score/E_r/truediv',\n",
       " u'Adam/update_score/E_r/sub_2/x',\n",
       " u'Adam/update_score/E_r/sub_2',\n",
       " u'Adam/update_score/E_r/mul_1',\n",
       " u'Adam/update_score/E_r/mul_2',\n",
       " u'Adam/update_score/E_r/Assign',\n",
       " u'Adam/update_score/E_r/ScatterAdd',\n",
       " u'Adam/update_score/E_r/mul_3',\n",
       " u'Adam/update_score/E_r/sub_3/x',\n",
       " u'Adam/update_score/E_r/sub_3',\n",
       " u'Adam/update_score/E_r/mul_4',\n",
       " u'Adam/update_score/E_r/mul_5',\n",
       " u'Adam/update_score/E_r/Assign_1',\n",
       " u'Adam/update_score/E_r/ScatterAdd_1',\n",
       " u'Adam/update_score/E_r/Sqrt_1',\n",
       " u'Adam/update_score/E_r/mul_6',\n",
       " u'Adam/update_score/E_r/add',\n",
       " u'Adam/update_score/E_r/truediv_1',\n",
       " u'Adam/update_score/E_r/AssignSub',\n",
       " u'Adam/update_score/E_r/group_deps',\n",
       " u'Adam/mul',\n",
       " u'Adam/Assign',\n",
       " u'Adam/mul_1',\n",
       " u'Adam/Assign_1',\n",
       " u'Adam/update',\n",
       " u'Adam/value',\n",
       " u'Adam',\n",
       " u'save/Const',\n",
       " u'save/save/tensor_names',\n",
       " u'save/save/shapes_and_slices',\n",
       " u'save/save',\n",
       " u'save/control_dependency',\n",
       " u'save/restore_slice/tensor_name',\n",
       " u'save/restore_slice/shape_and_slice',\n",
       " u'save/restore_slice',\n",
       " u'save/Assign',\n",
       " u'save/restore_slice_1/tensor_name',\n",
       " u'save/restore_slice_1/shape_and_slice',\n",
       " u'save/restore_slice_1',\n",
       " u'save/Assign_1',\n",
       " u'save/restore_slice_2/tensor_name',\n",
       " u'save/restore_slice_2/shape_and_slice',\n",
       " u'save/restore_slice_2',\n",
       " u'save/Assign_2',\n",
       " u'save/restore_slice_3/tensor_name',\n",
       " u'save/restore_slice_3/shape_and_slice',\n",
       " u'save/restore_slice_3',\n",
       " u'save/Assign_3',\n",
       " u'save/restore_slice_4/tensor_name',\n",
       " u'save/restore_slice_4/shape_and_slice',\n",
       " u'save/restore_slice_4',\n",
       " u'save/Assign_4',\n",
       " u'save/restore_slice_5/tensor_name',\n",
       " u'save/restore_slice_5/shape_and_slice',\n",
       " u'save/restore_slice_5',\n",
       " u'save/Assign_5',\n",
       " u'save/restore_slice_6/tensor_name',\n",
       " u'save/restore_slice_6/shape_and_slice',\n",
       " u'save/restore_slice_6',\n",
       " u'save/Assign_6',\n",
       " u'save/restore_slice_7/tensor_name',\n",
       " u'save/restore_slice_7/shape_and_slice',\n",
       " u'save/restore_slice_7',\n",
       " u'save/Assign_7',\n",
       " u'save/restore_slice_8/tensor_name',\n",
       " u'save/restore_slice_8/shape_and_slice',\n",
       " u'save/restore_slice_8',\n",
       " u'save/Assign_8',\n",
       " u'save/restore_slice_9/tensor_name',\n",
       " u'save/restore_slice_9/shape_and_slice',\n",
       " u'save/restore_slice_9',\n",
       " u'save/Assign_9',\n",
       " u'save/restore_slice_10/tensor_name',\n",
       " u'save/restore_slice_10/shape_and_slice',\n",
       " u'save/restore_slice_10',\n",
       " u'save/Assign_10',\n",
       " u'save/restore_slice_11/tensor_name',\n",
       " u'save/restore_slice_11/shape_and_slice',\n",
       " u'save/restore_slice_11',\n",
       " u'save/Assign_11',\n",
       " u'save/restore_slice_12/tensor_name',\n",
       " u'save/restore_slice_12/shape_and_slice',\n",
       " u'save/restore_slice_12',\n",
       " u'save/Assign_12',\n",
       " u'save/restore_slice_13/tensor_name',\n",
       " u'save/restore_slice_13/shape_and_slice',\n",
       " u'save/restore_slice_13',\n",
       " u'save/Assign_13',\n",
       " u'save/restore_slice_14/tensor_name',\n",
       " u'save/restore_slice_14/shape_and_slice',\n",
       " u'save/restore_slice_14',\n",
       " u'save/Assign_14',\n",
       " u'save/restore_slice_15/tensor_name',\n",
       " u'save/restore_slice_15/shape_and_slice',\n",
       " u'save/restore_slice_15',\n",
       " u'save/Assign_15',\n",
       " u'save/restore_slice_16/tensor_name',\n",
       " u'save/restore_slice_16/shape_and_slice',\n",
       " u'save/restore_slice_16',\n",
       " u'save/Assign_16',\n",
       " u'save/restore_slice_17/tensor_name',\n",
       " u'save/restore_slice_17/shape_and_slice',\n",
       " u'save/restore_slice_17',\n",
       " u'save/Assign_17',\n",
       " u'save/restore_all/NoOp',\n",
       " u'save/restore_all/NoOp_1',\n",
       " u'save/restore_all']"
      ]
     },
     "execution_count": 6,
     "metadata": {},
     "output_type": "execute_result"
    }
   ],
   "source": [
    "map(lambda x: x.name, tf.get_default_graph().get_operations())"
   ]
  }
 ],
 "metadata": {
  "kernelspec": {
   "display_name": "Python 2",
   "language": "python",
   "name": "python2"
  },
  "language_info": {
   "codemirror_mode": {
    "name": "ipython",
    "version": 2
   },
   "file_extension": ".py",
   "mimetype": "text/x-python",
   "name": "python",
   "nbconvert_exporter": "python",
   "pygments_lexer": "ipython2",
   "version": "2.7.6"
  }
 },
 "nbformat": 4,
 "nbformat_minor": 0
}
